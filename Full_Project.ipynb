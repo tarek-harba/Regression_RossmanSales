{
 "cells": [
  {
   "cell_type": "markdown",
   "metadata": {
    "id": "K1Yi9ayXMKgV"
   },
   "source": [
    "# Project Overview\n",
    "In this project, we will be predicting the sales of a supermarket chain (Rossman) using a number of inputs like day, month, whether there is a promotion and so on. The project can be divided into **4 parts**:\n",
    "### Part 1 - Data preprocessing\n",
    "   We first explore the data to handle missing samples and represent the features in a format that is more suitable for training a deep neural network or a regression tree.\n",
    "### Part 2 - Visual Exploratory Data Analysis (EDA)\n",
    "   After presenting the data in a more suitable format, we analyze the relation between our features visually using graphs for example to decide which features are relevant for making an estimate of Sales.\n",
    "### Part 3 - Statistical EDA\n",
    "   Some features are difficult to visualize, therefore, we use statistical methods to help determine their relevance for the estimation of Sales.\n",
    "### Part 4 - Deep Neural Network (DNN)\n",
    "   In this part we train a deep neural network using the features that we settled with and assess its performance on a validation set.   \n",
    "### Part 5 - Regression forest\n",
    "The DNN may perform poorly in general since some samples (holidays for example) are under-represented in the training data since there are simply fewer holidays than normal days, this would lead to worse performance. To solve that, we use a regression forest which trains a series of regression trees, where each tree is trained subsequently with more emphasis on the samples that were difficult for the earlier regression tree. This would result in an improved performance compared to the DNN."
   ]
  },
  {
   "cell_type": "code",
   "execution_count": 1,
   "metadata": {
    "id": "c_fKzVu9k0gv"
   },
   "outputs": [],
   "source": [
    "#Before starting we import all the packages we may need\n",
    "import pandas as pd\n",
    "from scipy.stats import alpha, f_oneway\n",
    "from random import sample\n",
    "import numpy as np\n",
    "import matplotlib.pyplot as plt\n",
    "import matplotlib\n",
    "import seaborn as sns\n",
    "import sklearn\n",
    "import sklearn.model_selection\n",
    "from sklearn.ensemble import AdaBoostRegressor\n",
    "from sklearn.tree import DecisionTreeRegressor\n",
    "from sklearn.preprocessing import OneHotEncoder\n",
    "from IPython.display import display\n",
    "import torch\n",
    "import torch.nn as nn\n",
    "from torch.utils.data import DataLoader, TensorDataset\n",
    "\n",
    "import numpy as np\n",
    "import sklearn\n",
    "import sklearn.model_selection\n",
    "\n",
    "from sklearn.ensemble import AdaBoostRegressor\n",
    "from sklearn.tree import DecisionTreeRegressor\n",
    "from sklearn.preprocessing import OneHotEncoder\n",
    "import pandas as pd\n",
    "import joblib"
   ]
  },
  {
   "cell_type": "markdown",
   "metadata": {
    "id": "eN_ikJrTVQXU"
   },
   "source": [
    "# Importing the Data\n",
    "Here, we directly read the csv file. In my personal PC however, MySQL was used for data storage and for importing it later on."
   ]
  },
  {
   "cell_type": "code",
   "execution_count": 2,
   "metadata": {
    "colab": {
     "base_uri": "https://localhost:8080/"
    },
    "id": "CqAZkhWQVXA-",
    "outputId": "c4e06732-4a2e-4784-a0a4-f33b6b68b7b7"
   },
   "outputs": [
    {
     "data": {
      "text/html": [
       "<div>\n",
       "<style scoped>\n",
       "    .dataframe tbody tr th:only-of-type {\n",
       "        vertical-align: middle;\n",
       "    }\n",
       "\n",
       "    .dataframe tbody tr th {\n",
       "        vertical-align: top;\n",
       "    }\n",
       "\n",
       "    .dataframe thead th {\n",
       "        text-align: right;\n",
       "    }\n",
       "</style>\n",
       "<table border=\"1\" class=\"dataframe\">\n",
       "  <thead>\n",
       "    <tr style=\"text-align: center;\">\n",
       "      <th></th>\n",
       "      <th>Store</th>\n",
       "      <th>StoreType</th>\n",
       "      <th>Assortment</th>\n",
       "      <th>CompetitionDistance</th>\n",
       "      <th>CompetitionOpenSinceMonth</th>\n",
       "      <th>CompetitionOpenSinceYear</th>\n",
       "      <th>Promo2</th>\n",
       "      <th>Promo2SinceWeek</th>\n",
       "      <th>Promo2SinceYear</th>\n",
       "      <th>PromoInterval</th>\n",
       "    </tr>\n",
       "  </thead>\n",
       "  <tbody>\n",
       "    <tr>\n",
       "      <th>0</th>\n",
       "      <td>1</td>\n",
       "      <td>c</td>\n",
       "      <td>a</td>\n",
       "      <td>1270.0</td>\n",
       "      <td>9.0</td>\n",
       "      <td>2008.0</td>\n",
       "      <td>0</td>\n",
       "      <td>NaN</td>\n",
       "      <td>NaN</td>\n",
       "      <td>NaN</td>\n",
       "    </tr>\n",
       "    <tr>\n",
       "      <th>1</th>\n",
       "      <td>2</td>\n",
       "      <td>a</td>\n",
       "      <td>a</td>\n",
       "      <td>570.0</td>\n",
       "      <td>11.0</td>\n",
       "      <td>2007.0</td>\n",
       "      <td>1</td>\n",
       "      <td>13.0</td>\n",
       "      <td>2010.0</td>\n",
       "      <td>Jan,Apr,Jul,Oct</td>\n",
       "    </tr>\n",
       "    <tr>\n",
       "      <th>2</th>\n",
       "      <td>3</td>\n",
       "      <td>a</td>\n",
       "      <td>a</td>\n",
       "      <td>14130.0</td>\n",
       "      <td>12.0</td>\n",
       "      <td>2006.0</td>\n",
       "      <td>1</td>\n",
       "      <td>14.0</td>\n",
       "      <td>2011.0</td>\n",
       "      <td>Jan,Apr,Jul,Oct</td>\n",
       "    </tr>\n",
       "    <tr>\n",
       "      <th>3</th>\n",
       "      <td>4</td>\n",
       "      <td>c</td>\n",
       "      <td>c</td>\n",
       "      <td>620.0</td>\n",
       "      <td>9.0</td>\n",
       "      <td>2009.0</td>\n",
       "      <td>0</td>\n",
       "      <td>NaN</td>\n",
       "      <td>NaN</td>\n",
       "      <td>NaN</td>\n",
       "    </tr>\n",
       "    <tr>\n",
       "      <th>4</th>\n",
       "      <td>5</td>\n",
       "      <td>a</td>\n",
       "      <td>a</td>\n",
       "      <td>29910.0</td>\n",
       "      <td>4.0</td>\n",
       "      <td>2015.0</td>\n",
       "      <td>0</td>\n",
       "      <td>NaN</td>\n",
       "      <td>NaN</td>\n",
       "      <td>NaN</td>\n",
       "    </tr>\n",
       "  </tbody>\n",
       "</table>\n",
       "</div>"
      ],
      "text/plain": [
       "   Store StoreType Assortment  CompetitionDistance  CompetitionOpenSinceMonth  CompetitionOpenSinceYear  Promo2  Promo2SinceWeek  Promo2SinceYear  PromoInterval  \n",
       "0    1        c         a             1270.0                   9.0                      2008.0              0          NaN               NaN                   NaN\n",
       "1    2        a         a              570.0                  11.0                      2007.0              1         13.0            2010.0       Jan,Apr,Jul,Oct\n",
       "2    3        a         a            14130.0                  12.0                      2006.0              1         14.0            2011.0       Jan,Apr,Jul,Oct\n",
       "3    4        c         c              620.0                   9.0                      2009.0              0          NaN               NaN                   NaN\n",
       "4    5        a         a            29910.0                   4.0                      2015.0              0          NaN               NaN                   NaN"
      ]
     },
     "metadata": {},
     "output_type": "display_data"
    },
    {
     "data": {
      "text/html": [
       "<div>\n",
       "<style scoped>\n",
       "    .dataframe tbody tr th:only-of-type {\n",
       "        vertical-align: middle;\n",
       "    }\n",
       "\n",
       "    .dataframe tbody tr th {\n",
       "        vertical-align: top;\n",
       "    }\n",
       "\n",
       "    .dataframe thead th {\n",
       "        text-align: right;\n",
       "    }\n",
       "</style>\n",
       "<table border=\"1\" class=\"dataframe\">\n",
       "  <thead>\n",
       "    <tr style=\"text-align: center;\">\n",
       "      <th></th>\n",
       "      <th>Store</th>\n",
       "      <th>DayOfWeek</th>\n",
       "      <th>Date</th>\n",
       "      <th>Sales</th>\n",
       "      <th>Customers</th>\n",
       "      <th>Open</th>\n",
       "      <th>Promo</th>\n",
       "      <th>StateHoliday</th>\n",
       "      <th>SchoolHoliday</th>\n",
       "    </tr>\n",
       "  </thead>\n",
       "  <tbody>\n",
       "    <tr>\n",
       "      <th>0</th>\n",
       "      <td>1</td>\n",
       "      <td>5</td>\n",
       "      <td>2015-07-31</td>\n",
       "      <td>5263</td>\n",
       "      <td>555</td>\n",
       "      <td>1</td>\n",
       "      <td>1</td>\n",
       "      <td>0</td>\n",
       "      <td>1</td>\n",
       "    </tr>\n",
       "    <tr>\n",
       "      <th>1</th>\n",
       "      <td>2</td>\n",
       "      <td>5</td>\n",
       "      <td>2015-07-31</td>\n",
       "      <td>6064</td>\n",
       "      <td>625</td>\n",
       "      <td>1</td>\n",
       "      <td>1</td>\n",
       "      <td>0</td>\n",
       "      <td>1</td>\n",
       "    </tr>\n",
       "    <tr>\n",
       "      <th>2</th>\n",
       "      <td>3</td>\n",
       "      <td>5</td>\n",
       "      <td>2015-07-31</td>\n",
       "      <td>8314</td>\n",
       "      <td>821</td>\n",
       "      <td>1</td>\n",
       "      <td>1</td>\n",
       "      <td>0</td>\n",
       "      <td>1</td>\n",
       "    </tr>\n",
       "    <tr>\n",
       "      <th>3</th>\n",
       "      <td>4</td>\n",
       "      <td>5</td>\n",
       "      <td>2015-07-31</td>\n",
       "      <td>13995</td>\n",
       "      <td>1498</td>\n",
       "      <td>1</td>\n",
       "      <td>1</td>\n",
       "      <td>0</td>\n",
       "      <td>1</td>\n",
       "    </tr>\n",
       "    <tr>\n",
       "      <th>4</th>\n",
       "      <td>5</td>\n",
       "      <td>5</td>\n",
       "      <td>2015-07-31</td>\n",
       "      <td>4822</td>\n",
       "      <td>559</td>\n",
       "      <td>1</td>\n",
       "      <td>1</td>\n",
       "      <td>0</td>\n",
       "      <td>1</td>\n",
       "    </tr>\n",
       "  </tbody>\n",
       "</table>\n",
       "</div>"
      ],
      "text/plain": [
       "   Store  DayOfWeek     Date     Sales  Customers  Open  Promo StateHoliday  SchoolHoliday\n",
       "0    1        5      2015-07-31   5263     555       1     1         0             1      \n",
       "1    2        5      2015-07-31   6064     625       1     1         0             1      \n",
       "2    3        5      2015-07-31   8314     821       1     1         0             1      \n",
       "3    4        5      2015-07-31  13995    1498       1     1         0             1      \n",
       "4    5        5      2015-07-31   4822     559       1     1         0             1      "
      ]
     },
     "metadata": {},
     "output_type": "display_data"
    }
   ],
   "source": [
    "train_df = pd.read_csv(\"./Datasets/train.csv\", low_memory=False)\n",
    "store_df = pd.read_csv(\"./Datasets/store.csv\", low_memory=False)\n",
    "\n",
    "# Adjust pandas display settings\n",
    "pd.set_option('display.max_rows', None)\n",
    "pd.set_option('display.max_columns', None)\n",
    "pd.set_option('display.width', 1000)\n",
    "pd.set_option('display.colheader_justify', 'center')\n",
    "pd.set_option('display.precision', 3)\n",
    "\n",
    "#Show first 5 samples of each dataframe\n",
    "display(store_df.head(5))\n",
    "display(train_df.head(5))"
   ]
  },
  {
   "cell_type": "markdown",
   "metadata": {
    "id": "9JOgWUWmWIPn"
   },
   "source": [
    "Both **store_df** and **train_df** make up our **training set**. We can see that in train_df, there is a feature named Store, this means that for each Store, there is additional data related to it stored within store_df.\n",
    "\n",
    "We **merge both dataframes** by store number since Store information will probably be relevant for making Sales estimates."
   ]
  },
  {
   "cell_type": "code",
   "execution_count": 3,
   "metadata": {
    "colab": {
     "base_uri": "https://localhost:8080/"
    },
    "id": "gOp2yoEgWtqs",
    "outputId": "80d75196-7f4d-40d4-9f38-e997f8d8b79a"
   },
   "outputs": [
    {
     "data": {
      "text/html": [
       "<div>\n",
       "<style scoped>\n",
       "    .dataframe tbody tr th:only-of-type {\n",
       "        vertical-align: middle;\n",
       "    }\n",
       "\n",
       "    .dataframe tbody tr th {\n",
       "        vertical-align: top;\n",
       "    }\n",
       "\n",
       "    .dataframe thead th {\n",
       "        text-align: right;\n",
       "    }\n",
       "</style>\n",
       "<table border=\"1\" class=\"dataframe\">\n",
       "  <thead>\n",
       "    <tr style=\"text-align: center;\">\n",
       "      <th></th>\n",
       "      <th>Store</th>\n",
       "      <th>DayOfWeek</th>\n",
       "      <th>Date</th>\n",
       "      <th>Sales</th>\n",
       "      <th>Customers</th>\n",
       "      <th>Open</th>\n",
       "      <th>Promo</th>\n",
       "      <th>StateHoliday</th>\n",
       "      <th>SchoolHoliday</th>\n",
       "      <th>StoreType</th>\n",
       "      <th>Assortment</th>\n",
       "      <th>CompetitionDistance</th>\n",
       "      <th>CompetitionOpenSinceMonth</th>\n",
       "      <th>CompetitionOpenSinceYear</th>\n",
       "      <th>Promo2</th>\n",
       "      <th>Promo2SinceWeek</th>\n",
       "      <th>Promo2SinceYear</th>\n",
       "      <th>PromoInterval</th>\n",
       "    </tr>\n",
       "  </thead>\n",
       "  <tbody>\n",
       "    <tr>\n",
       "      <th>0</th>\n",
       "      <td>1</td>\n",
       "      <td>5</td>\n",
       "      <td>2015-07-31</td>\n",
       "      <td>5263</td>\n",
       "      <td>555</td>\n",
       "      <td>1</td>\n",
       "      <td>1</td>\n",
       "      <td>0</td>\n",
       "      <td>1</td>\n",
       "      <td>c</td>\n",
       "      <td>a</td>\n",
       "      <td>1270.0</td>\n",
       "      <td>9.0</td>\n",
       "      <td>2008.0</td>\n",
       "      <td>0</td>\n",
       "      <td>NaN</td>\n",
       "      <td>NaN</td>\n",
       "      <td>NaN</td>\n",
       "    </tr>\n",
       "    <tr>\n",
       "      <th>1</th>\n",
       "      <td>2</td>\n",
       "      <td>5</td>\n",
       "      <td>2015-07-31</td>\n",
       "      <td>6064</td>\n",
       "      <td>625</td>\n",
       "      <td>1</td>\n",
       "      <td>1</td>\n",
       "      <td>0</td>\n",
       "      <td>1</td>\n",
       "      <td>a</td>\n",
       "      <td>a</td>\n",
       "      <td>570.0</td>\n",
       "      <td>11.0</td>\n",
       "      <td>2007.0</td>\n",
       "      <td>1</td>\n",
       "      <td>13.0</td>\n",
       "      <td>2010.0</td>\n",
       "      <td>Jan,Apr,Jul,Oct</td>\n",
       "    </tr>\n",
       "    <tr>\n",
       "      <th>2</th>\n",
       "      <td>3</td>\n",
       "      <td>5</td>\n",
       "      <td>2015-07-31</td>\n",
       "      <td>8314</td>\n",
       "      <td>821</td>\n",
       "      <td>1</td>\n",
       "      <td>1</td>\n",
       "      <td>0</td>\n",
       "      <td>1</td>\n",
       "      <td>a</td>\n",
       "      <td>a</td>\n",
       "      <td>14130.0</td>\n",
       "      <td>12.0</td>\n",
       "      <td>2006.0</td>\n",
       "      <td>1</td>\n",
       "      <td>14.0</td>\n",
       "      <td>2011.0</td>\n",
       "      <td>Jan,Apr,Jul,Oct</td>\n",
       "    </tr>\n",
       "    <tr>\n",
       "      <th>3</th>\n",
       "      <td>4</td>\n",
       "      <td>5</td>\n",
       "      <td>2015-07-31</td>\n",
       "      <td>13995</td>\n",
       "      <td>1498</td>\n",
       "      <td>1</td>\n",
       "      <td>1</td>\n",
       "      <td>0</td>\n",
       "      <td>1</td>\n",
       "      <td>c</td>\n",
       "      <td>c</td>\n",
       "      <td>620.0</td>\n",
       "      <td>9.0</td>\n",
       "      <td>2009.0</td>\n",
       "      <td>0</td>\n",
       "      <td>NaN</td>\n",
       "      <td>NaN</td>\n",
       "      <td>NaN</td>\n",
       "    </tr>\n",
       "    <tr>\n",
       "      <th>4</th>\n",
       "      <td>5</td>\n",
       "      <td>5</td>\n",
       "      <td>2015-07-31</td>\n",
       "      <td>4822</td>\n",
       "      <td>559</td>\n",
       "      <td>1</td>\n",
       "      <td>1</td>\n",
       "      <td>0</td>\n",
       "      <td>1</td>\n",
       "      <td>a</td>\n",
       "      <td>a</td>\n",
       "      <td>29910.0</td>\n",
       "      <td>4.0</td>\n",
       "      <td>2015.0</td>\n",
       "      <td>0</td>\n",
       "      <td>NaN</td>\n",
       "      <td>NaN</td>\n",
       "      <td>NaN</td>\n",
       "    </tr>\n",
       "  </tbody>\n",
       "</table>\n",
       "</div>"
      ],
      "text/plain": [
       "   Store  DayOfWeek     Date     Sales  Customers  Open  Promo StateHoliday  SchoolHoliday StoreType Assortment  CompetitionDistance  CompetitionOpenSinceMonth  CompetitionOpenSinceYear  Promo2  Promo2SinceWeek  Promo2SinceYear  PromoInterval  \n",
       "0    1        5      2015-07-31   5263     555       1     1         0             1            c         a             1270.0                   9.0                      2008.0              0          NaN               NaN                   NaN\n",
       "1    2        5      2015-07-31   6064     625       1     1         0             1            a         a              570.0                  11.0                      2007.0              1         13.0            2010.0       Jan,Apr,Jul,Oct\n",
       "2    3        5      2015-07-31   8314     821       1     1         0             1            a         a            14130.0                  12.0                      2006.0              1         14.0            2011.0       Jan,Apr,Jul,Oct\n",
       "3    4        5      2015-07-31  13995    1498       1     1         0             1            c         c              620.0                   9.0                      2009.0              0          NaN               NaN                   NaN\n",
       "4    5        5      2015-07-31   4822     559       1     1         0             1            a         a            29910.0                   4.0                      2015.0              0          NaN               NaN                   NaN"
      ]
     },
     "metadata": {},
     "output_type": "display_data"
    }
   ],
   "source": [
    "merged_train_df = pd.merge(train_df, store_df, on=\"Store\")\n",
    "display(merged_train_df.head(5))"
   ]
  },
  {
   "cell_type": "markdown",
   "metadata": {
    "id": "-h6Pb6G8XYtN"
   },
   "source": [
    "# Part 1 - Data Preprocessing"
   ]
  },
  {
   "cell_type": "markdown",
   "metadata": {
    "id": "wFHtgAvLaGgx"
   },
   "source": [
    "Briefly check if missing values exist."
   ]
  },
  {
   "cell_type": "code",
   "execution_count": 4,
   "metadata": {
    "colab": {
     "base_uri": "https://localhost:8080/"
    },
    "id": "znFNSCDuaAcw",
    "outputId": "aa62526e-179d-45d5-bbf4-0604e8ec9e0e"
   },
   "outputs": [
    {
     "name": "stdout",
     "output_type": "stream",
     "text": [
      "<class 'pandas.core.frame.DataFrame'>\n",
      "RangeIndex: 1017209 entries, 0 to 1017208\n",
      "Data columns (total 18 columns):\n",
      " #   Column                     Non-Null Count    Dtype  \n",
      "---  ------                     --------------    -----  \n",
      " 0   Store                      1017209 non-null  int64  \n",
      " 1   DayOfWeek                  1017209 non-null  int64  \n",
      " 2   Date                       1017209 non-null  object \n",
      " 3   Sales                      1017209 non-null  int64  \n",
      " 4   Customers                  1017209 non-null  int64  \n",
      " 5   Open                       1017209 non-null  int64  \n",
      " 6   Promo                      1017209 non-null  int64  \n",
      " 7   StateHoliday               1017209 non-null  object \n",
      " 8   SchoolHoliday              1017209 non-null  int64  \n",
      " 9   StoreType                  1017209 non-null  object \n",
      " 10  Assortment                 1017209 non-null  object \n",
      " 11  CompetitionDistance        1014567 non-null  float64\n",
      " 12  CompetitionOpenSinceMonth  693861 non-null   float64\n",
      " 13  CompetitionOpenSinceYear   693861 non-null   float64\n",
      " 14  Promo2                     1017209 non-null  int64  \n",
      " 15  Promo2SinceWeek            509178 non-null   float64\n",
      " 16  Promo2SinceYear            509178 non-null   float64\n",
      " 17  PromoInterval              509178 non-null   object \n",
      "dtypes: float64(5), int64(8), object(5)\n",
      "memory usage: 139.7+ MB\n"
     ]
    },
    {
     "data": {
      "text/plain": [
       "None"
      ]
     },
     "metadata": {},
     "output_type": "display_data"
    }
   ],
   "source": [
    "display(merged_train_df.info())"
   ]
  },
  {
   "cell_type": "markdown",
   "metadata": {
    "id": "qX4EXFjIaNok"
   },
   "source": [
    "Since some features have fewer samples, this means that we do have missing values."
   ]
  },
  {
   "cell_type": "markdown",
   "metadata": {
    "id": "NOT6AVhwZy3F"
   },
   "source": [
    "The columns **(CompetitionOpenSinceMonth,CompetitionOpenSinceYear)** can be reduced to a single column of **(CompetitionOpenSinceDate)**. Reducing the number of dimensions"
   ]
  },
  {
   "cell_type": "code",
   "execution_count": 5,
   "metadata": {
    "colab": {
     "base_uri": "https://localhost:8080/"
    },
    "id": "mT2fA1BDabjO",
    "outputId": "98a8ed02-dac3-4f5a-f6a8-b0e2beabc4b9"
   },
   "outputs": [
    {
     "data": {
      "text/html": [
       "<div>\n",
       "<style scoped>\n",
       "    .dataframe tbody tr th:only-of-type {\n",
       "        vertical-align: middle;\n",
       "    }\n",
       "\n",
       "    .dataframe tbody tr th {\n",
       "        vertical-align: top;\n",
       "    }\n",
       "\n",
       "    .dataframe thead th {\n",
       "        text-align: right;\n",
       "    }\n",
       "</style>\n",
       "<table border=\"1\" class=\"dataframe\">\n",
       "  <thead>\n",
       "    <tr style=\"text-align: center;\">\n",
       "      <th></th>\n",
       "      <th>Store</th>\n",
       "      <th>DayOfWeek</th>\n",
       "      <th>Date</th>\n",
       "      <th>Sales</th>\n",
       "      <th>Customers</th>\n",
       "      <th>Open</th>\n",
       "      <th>Promo</th>\n",
       "      <th>StateHoliday</th>\n",
       "      <th>SchoolHoliday</th>\n",
       "      <th>StoreType</th>\n",
       "      <th>Assortment</th>\n",
       "      <th>CompetitionDistance</th>\n",
       "      <th>CompetitionOpenSinceDate</th>\n",
       "      <th>Promo2</th>\n",
       "      <th>Promo2SinceWeek</th>\n",
       "      <th>Promo2SinceYear</th>\n",
       "      <th>PromoInterval</th>\n",
       "    </tr>\n",
       "  </thead>\n",
       "  <tbody>\n",
       "    <tr>\n",
       "      <th>0</th>\n",
       "      <td>1</td>\n",
       "      <td>5</td>\n",
       "      <td>2015-07-31</td>\n",
       "      <td>5263</td>\n",
       "      <td>555</td>\n",
       "      <td>1</td>\n",
       "      <td>1</td>\n",
       "      <td>0</td>\n",
       "      <td>1</td>\n",
       "      <td>c</td>\n",
       "      <td>a</td>\n",
       "      <td>1270.0</td>\n",
       "      <td>2008-09-01</td>\n",
       "      <td>0</td>\n",
       "      <td>NaN</td>\n",
       "      <td>NaN</td>\n",
       "      <td>NaN</td>\n",
       "    </tr>\n",
       "    <tr>\n",
       "      <th>1</th>\n",
       "      <td>2</td>\n",
       "      <td>5</td>\n",
       "      <td>2015-07-31</td>\n",
       "      <td>6064</td>\n",
       "      <td>625</td>\n",
       "      <td>1</td>\n",
       "      <td>1</td>\n",
       "      <td>0</td>\n",
       "      <td>1</td>\n",
       "      <td>a</td>\n",
       "      <td>a</td>\n",
       "      <td>570.0</td>\n",
       "      <td>2007-11-01</td>\n",
       "      <td>1</td>\n",
       "      <td>13.0</td>\n",
       "      <td>2010.0</td>\n",
       "      <td>Jan,Apr,Jul,Oct</td>\n",
       "    </tr>\n",
       "    <tr>\n",
       "      <th>2</th>\n",
       "      <td>3</td>\n",
       "      <td>5</td>\n",
       "      <td>2015-07-31</td>\n",
       "      <td>8314</td>\n",
       "      <td>821</td>\n",
       "      <td>1</td>\n",
       "      <td>1</td>\n",
       "      <td>0</td>\n",
       "      <td>1</td>\n",
       "      <td>a</td>\n",
       "      <td>a</td>\n",
       "      <td>14130.0</td>\n",
       "      <td>2006-12-01</td>\n",
       "      <td>1</td>\n",
       "      <td>14.0</td>\n",
       "      <td>2011.0</td>\n",
       "      <td>Jan,Apr,Jul,Oct</td>\n",
       "    </tr>\n",
       "    <tr>\n",
       "      <th>3</th>\n",
       "      <td>4</td>\n",
       "      <td>5</td>\n",
       "      <td>2015-07-31</td>\n",
       "      <td>13995</td>\n",
       "      <td>1498</td>\n",
       "      <td>1</td>\n",
       "      <td>1</td>\n",
       "      <td>0</td>\n",
       "      <td>1</td>\n",
       "      <td>c</td>\n",
       "      <td>c</td>\n",
       "      <td>620.0</td>\n",
       "      <td>2009-09-01</td>\n",
       "      <td>0</td>\n",
       "      <td>NaN</td>\n",
       "      <td>NaN</td>\n",
       "      <td>NaN</td>\n",
       "    </tr>\n",
       "    <tr>\n",
       "      <th>4</th>\n",
       "      <td>5</td>\n",
       "      <td>5</td>\n",
       "      <td>2015-07-31</td>\n",
       "      <td>4822</td>\n",
       "      <td>559</td>\n",
       "      <td>1</td>\n",
       "      <td>1</td>\n",
       "      <td>0</td>\n",
       "      <td>1</td>\n",
       "      <td>a</td>\n",
       "      <td>a</td>\n",
       "      <td>29910.0</td>\n",
       "      <td>2015-04-01</td>\n",
       "      <td>0</td>\n",
       "      <td>NaN</td>\n",
       "      <td>NaN</td>\n",
       "      <td>NaN</td>\n",
       "    </tr>\n",
       "  </tbody>\n",
       "</table>\n",
       "</div>"
      ],
      "text/plain": [
       "   Store  DayOfWeek     Date     Sales  Customers  Open  Promo StateHoliday  SchoolHoliday StoreType Assortment  CompetitionDistance CompetitionOpenSinceDate  Promo2  Promo2SinceWeek  Promo2SinceYear  PromoInterval  \n",
       "0    1        5      2015-07-31   5263     555       1     1         0             1            c         a             1270.0              2008-09-01            0          NaN               NaN                   NaN\n",
       "1    2        5      2015-07-31   6064     625       1     1         0             1            a         a              570.0              2007-11-01            1         13.0            2010.0       Jan,Apr,Jul,Oct\n",
       "2    3        5      2015-07-31   8314     821       1     1         0             1            a         a            14130.0              2006-12-01            1         14.0            2011.0       Jan,Apr,Jul,Oct\n",
       "3    4        5      2015-07-31  13995    1498       1     1         0             1            c         c              620.0              2009-09-01            0          NaN               NaN                   NaN\n",
       "4    5        5      2015-07-31   4822     559       1     1         0             1            a         a            29910.0              2015-04-01            0          NaN               NaN                   NaN"
      ]
     },
     "metadata": {},
     "output_type": "display_data"
    }
   ],
   "source": [
    "competitionDate_df = (merged_train_df[['CompetitionOpenSinceYear',\n",
    "                                             'CompetitionOpenSinceMonth']]\n",
    "                          .rename(columns={'CompetitionOpenSinceYear': 'YEAR',\n",
    "                                           'CompetitionOpenSinceMonth': 'MONTH'}))\n",
    "competitionDate_df = pd.to_datetime(competitionDate_df[['YEAR', 'MONTH']].assign(DAY=1))\n",
    "merged_train_df['CompetitionOpenSinceYear'] = competitionDate_df\n",
    "merged_train_df.drop('CompetitionOpenSinceMonth', axis=1, inplace=True)\n",
    "merged_train_df.rename(columns={'CompetitionOpenSinceYear': 'CompetitionOpenSinceDate'}, inplace=True)\n",
    "display(merged_train_df.head(5))"
   ]
  },
  {
   "cell_type": "markdown",
   "metadata": {
    "id": "1neAn7IPa4Xf"
   },
   "source": [
    "Columns **(Promo2SinceWeek, Promo2SinceYear)** can be reduced to a single column of **(Promo2SinceDate)**. Reducing n_dimensions."
   ]
  },
  {
   "cell_type": "code",
   "execution_count": 6,
   "metadata": {
    "id": "vaDIrHQma4tQ"
   },
   "outputs": [
    {
     "data": {
      "text/html": [
       "<div>\n",
       "<style scoped>\n",
       "    .dataframe tbody tr th:only-of-type {\n",
       "        vertical-align: middle;\n",
       "    }\n",
       "\n",
       "    .dataframe tbody tr th {\n",
       "        vertical-align: top;\n",
       "    }\n",
       "\n",
       "    .dataframe thead th {\n",
       "        text-align: right;\n",
       "    }\n",
       "</style>\n",
       "<table border=\"1\" class=\"dataframe\">\n",
       "  <thead>\n",
       "    <tr style=\"text-align: center;\">\n",
       "      <th></th>\n",
       "      <th>Store</th>\n",
       "      <th>DayOfWeek</th>\n",
       "      <th>Date</th>\n",
       "      <th>Sales</th>\n",
       "      <th>Customers</th>\n",
       "      <th>Open</th>\n",
       "      <th>Promo</th>\n",
       "      <th>StateHoliday</th>\n",
       "      <th>SchoolHoliday</th>\n",
       "      <th>StoreType</th>\n",
       "      <th>Assortment</th>\n",
       "      <th>CompetitionDistance</th>\n",
       "      <th>CompetitionOpenSinceDate</th>\n",
       "      <th>Promo2</th>\n",
       "      <th>Promo2SinceDate</th>\n",
       "      <th>PromoInterval</th>\n",
       "    </tr>\n",
       "  </thead>\n",
       "  <tbody>\n",
       "    <tr>\n",
       "      <th>0</th>\n",
       "      <td>1</td>\n",
       "      <td>5</td>\n",
       "      <td>2015-07-31</td>\n",
       "      <td>5263</td>\n",
       "      <td>555</td>\n",
       "      <td>1</td>\n",
       "      <td>1</td>\n",
       "      <td>0</td>\n",
       "      <td>1</td>\n",
       "      <td>c</td>\n",
       "      <td>a</td>\n",
       "      <td>1270.0</td>\n",
       "      <td>2008-09-01</td>\n",
       "      <td>0</td>\n",
       "      <td>NaT</td>\n",
       "      <td>NaN</td>\n",
       "    </tr>\n",
       "    <tr>\n",
       "      <th>1</th>\n",
       "      <td>2</td>\n",
       "      <td>5</td>\n",
       "      <td>2015-07-31</td>\n",
       "      <td>6064</td>\n",
       "      <td>625</td>\n",
       "      <td>1</td>\n",
       "      <td>1</td>\n",
       "      <td>0</td>\n",
       "      <td>1</td>\n",
       "      <td>a</td>\n",
       "      <td>a</td>\n",
       "      <td>570.0</td>\n",
       "      <td>2007-11-01</td>\n",
       "      <td>1</td>\n",
       "      <td>2010-03-26</td>\n",
       "      <td>Jan,Apr,Jul,Oct</td>\n",
       "    </tr>\n",
       "    <tr>\n",
       "      <th>2</th>\n",
       "      <td>3</td>\n",
       "      <td>5</td>\n",
       "      <td>2015-07-31</td>\n",
       "      <td>8314</td>\n",
       "      <td>821</td>\n",
       "      <td>1</td>\n",
       "      <td>1</td>\n",
       "      <td>0</td>\n",
       "      <td>1</td>\n",
       "      <td>a</td>\n",
       "      <td>a</td>\n",
       "      <td>14130.0</td>\n",
       "      <td>2006-12-01</td>\n",
       "      <td>1</td>\n",
       "      <td>2011-04-02</td>\n",
       "      <td>Jan,Apr,Jul,Oct</td>\n",
       "    </tr>\n",
       "    <tr>\n",
       "      <th>3</th>\n",
       "      <td>4</td>\n",
       "      <td>5</td>\n",
       "      <td>2015-07-31</td>\n",
       "      <td>13995</td>\n",
       "      <td>1498</td>\n",
       "      <td>1</td>\n",
       "      <td>1</td>\n",
       "      <td>0</td>\n",
       "      <td>1</td>\n",
       "      <td>c</td>\n",
       "      <td>c</td>\n",
       "      <td>620.0</td>\n",
       "      <td>2009-09-01</td>\n",
       "      <td>0</td>\n",
       "      <td>NaT</td>\n",
       "      <td>NaN</td>\n",
       "    </tr>\n",
       "    <tr>\n",
       "      <th>4</th>\n",
       "      <td>5</td>\n",
       "      <td>5</td>\n",
       "      <td>2015-07-31</td>\n",
       "      <td>4822</td>\n",
       "      <td>559</td>\n",
       "      <td>1</td>\n",
       "      <td>1</td>\n",
       "      <td>0</td>\n",
       "      <td>1</td>\n",
       "      <td>a</td>\n",
       "      <td>a</td>\n",
       "      <td>29910.0</td>\n",
       "      <td>2015-04-01</td>\n",
       "      <td>0</td>\n",
       "      <td>NaT</td>\n",
       "      <td>NaN</td>\n",
       "    </tr>\n",
       "  </tbody>\n",
       "</table>\n",
       "</div>"
      ],
      "text/plain": [
       "   Store  DayOfWeek     Date     Sales  Customers  Open  Promo StateHoliday  SchoolHoliday StoreType Assortment  CompetitionDistance CompetitionOpenSinceDate  Promo2 Promo2SinceDate  PromoInterval  \n",
       "0    1        5      2015-07-31   5263     555       1     1         0             1            c         a             1270.0              2008-09-01            0             NaT                NaN\n",
       "1    2        5      2015-07-31   6064     625       1     1         0             1            a         a              570.0              2007-11-01            1      2010-03-26    Jan,Apr,Jul,Oct\n",
       "2    3        5      2015-07-31   8314     821       1     1         0             1            a         a            14130.0              2006-12-01            1      2011-04-02    Jan,Apr,Jul,Oct\n",
       "3    4        5      2015-07-31  13995    1498       1     1         0             1            c         c              620.0              2009-09-01            0             NaT                NaN\n",
       "4    5        5      2015-07-31   4822     559       1     1         0             1            a         a            29910.0              2015-04-01            0             NaT                NaN"
      ]
     },
     "metadata": {},
     "output_type": "display_data"
    }
   ],
   "source": [
    "temp_df = pd.DataFrame(index=merged_train_df.index)\n",
    "temp_df['Promo2SinceYear'] = merged_train_df['Promo2SinceYear'].fillna(1900)  # or choose another default year\n",
    "temp_df['Promo2SinceWeek'] = merged_train_df['Promo2SinceWeek'].fillna(1).astype(int)\n",
    "promo2sinceDate_df = pd.to_datetime(temp_df['Promo2SinceYear'].astype(str) + '101',format='%Y.%m%d')\n",
    "promo2sinceDate_df += pd.to_timedelta(temp_df['Promo2SinceWeek'] - 1, unit='W')\n",
    "merged_train_df['Promo2SinceYear'] = promo2sinceDate_df\n",
    "merged_train_df.drop('Promo2SinceWeek', axis=1, inplace=True)\n",
    "merged_train_df.rename(columns={'Promo2SinceYear': 'Promo2SinceDate'}, inplace=True)\n",
    "merged_train_df.loc[merged_train_df['Promo2SinceDate'].dt.year == 1900, 'Promo2SinceDate'] = None\n",
    "display(merged_train_df.head(5))"
   ]
  },
  {
   "cell_type": "markdown",
   "metadata": {
    "id": "reHoQPFKdsdo"
   },
   "source": [
    "The Columns **CompetitionOpenSinceDate and Promo2SinceDate** can be made more useful by converting them to number of days from the current date in column Date under new names of **(CompetitionOpenForDays / Promo2ForDays)**"
   ]
  },
  {
   "cell_type": "code",
   "execution_count": 7,
   "metadata": {
    "id": "H09UUtKGd-bc"
   },
   "outputs": [
    {
     "data": {
      "text/html": [
       "<div>\n",
       "<style scoped>\n",
       "    .dataframe tbody tr th:only-of-type {\n",
       "        vertical-align: middle;\n",
       "    }\n",
       "\n",
       "    .dataframe tbody tr th {\n",
       "        vertical-align: top;\n",
       "    }\n",
       "\n",
       "    .dataframe thead th {\n",
       "        text-align: right;\n",
       "    }\n",
       "</style>\n",
       "<table border=\"1\" class=\"dataframe\">\n",
       "  <thead>\n",
       "    <tr style=\"text-align: center;\">\n",
       "      <th></th>\n",
       "      <th>Store</th>\n",
       "      <th>DayOfWeek</th>\n",
       "      <th>Date</th>\n",
       "      <th>Sales</th>\n",
       "      <th>Customers</th>\n",
       "      <th>Open</th>\n",
       "      <th>Promo</th>\n",
       "      <th>StateHoliday</th>\n",
       "      <th>SchoolHoliday</th>\n",
       "      <th>StoreType</th>\n",
       "      <th>Assortment</th>\n",
       "      <th>CompetitionDistance</th>\n",
       "      <th>CompetitionOpenForDays</th>\n",
       "      <th>Promo2</th>\n",
       "      <th>Promo2ForDays</th>\n",
       "      <th>PromoInterval</th>\n",
       "    </tr>\n",
       "  </thead>\n",
       "  <tbody>\n",
       "    <tr>\n",
       "      <th>0</th>\n",
       "      <td>1</td>\n",
       "      <td>5</td>\n",
       "      <td>2015-07-31</td>\n",
       "      <td>5263</td>\n",
       "      <td>555</td>\n",
       "      <td>1</td>\n",
       "      <td>1</td>\n",
       "      <td>0</td>\n",
       "      <td>1</td>\n",
       "      <td>c</td>\n",
       "      <td>a</td>\n",
       "      <td>1270.0</td>\n",
       "      <td>2524.0</td>\n",
       "      <td>0</td>\n",
       "      <td>NaN</td>\n",
       "      <td>NaN</td>\n",
       "    </tr>\n",
       "    <tr>\n",
       "      <th>1</th>\n",
       "      <td>2</td>\n",
       "      <td>5</td>\n",
       "      <td>2015-07-31</td>\n",
       "      <td>6064</td>\n",
       "      <td>625</td>\n",
       "      <td>1</td>\n",
       "      <td>1</td>\n",
       "      <td>0</td>\n",
       "      <td>1</td>\n",
       "      <td>a</td>\n",
       "      <td>a</td>\n",
       "      <td>570.0</td>\n",
       "      <td>2829.0</td>\n",
       "      <td>1</td>\n",
       "      <td>1953.0</td>\n",
       "      <td>Jan,Apr,Jul,Oct</td>\n",
       "    </tr>\n",
       "    <tr>\n",
       "      <th>2</th>\n",
       "      <td>3</td>\n",
       "      <td>5</td>\n",
       "      <td>2015-07-31</td>\n",
       "      <td>8314</td>\n",
       "      <td>821</td>\n",
       "      <td>1</td>\n",
       "      <td>1</td>\n",
       "      <td>0</td>\n",
       "      <td>1</td>\n",
       "      <td>a</td>\n",
       "      <td>a</td>\n",
       "      <td>14130.0</td>\n",
       "      <td>3164.0</td>\n",
       "      <td>1</td>\n",
       "      <td>1581.0</td>\n",
       "      <td>Jan,Apr,Jul,Oct</td>\n",
       "    </tr>\n",
       "    <tr>\n",
       "      <th>3</th>\n",
       "      <td>4</td>\n",
       "      <td>5</td>\n",
       "      <td>2015-07-31</td>\n",
       "      <td>13995</td>\n",
       "      <td>1498</td>\n",
       "      <td>1</td>\n",
       "      <td>1</td>\n",
       "      <td>0</td>\n",
       "      <td>1</td>\n",
       "      <td>c</td>\n",
       "      <td>c</td>\n",
       "      <td>620.0</td>\n",
       "      <td>2159.0</td>\n",
       "      <td>0</td>\n",
       "      <td>NaN</td>\n",
       "      <td>NaN</td>\n",
       "    </tr>\n",
       "    <tr>\n",
       "      <th>4</th>\n",
       "      <td>5</td>\n",
       "      <td>5</td>\n",
       "      <td>2015-07-31</td>\n",
       "      <td>4822</td>\n",
       "      <td>559</td>\n",
       "      <td>1</td>\n",
       "      <td>1</td>\n",
       "      <td>0</td>\n",
       "      <td>1</td>\n",
       "      <td>a</td>\n",
       "      <td>a</td>\n",
       "      <td>29910.0</td>\n",
       "      <td>121.0</td>\n",
       "      <td>0</td>\n",
       "      <td>NaN</td>\n",
       "      <td>NaN</td>\n",
       "    </tr>\n",
       "  </tbody>\n",
       "</table>\n",
       "</div>"
      ],
      "text/plain": [
       "   Store  DayOfWeek    Date     Sales  Customers  Open  Promo StateHoliday  SchoolHoliday StoreType Assortment  CompetitionDistance  CompetitionOpenForDays  Promo2  Promo2ForDays  PromoInterval  \n",
       "0    1        5     2015-07-31   5263     555       1     1         0             1            c         a             1270.0                2524.0             0          NaN                  NaN\n",
       "1    2        5     2015-07-31   6064     625       1     1         0             1            a         a              570.0                2829.0             1       1953.0      Jan,Apr,Jul,Oct\n",
       "2    3        5     2015-07-31   8314     821       1     1         0             1            a         a            14130.0                3164.0             1       1581.0      Jan,Apr,Jul,Oct\n",
       "3    4        5     2015-07-31  13995    1498       1     1         0             1            c         c              620.0                2159.0             0          NaN                  NaN\n",
       "4    5        5     2015-07-31   4822     559       1     1         0             1            a         a            29910.0                 121.0             0          NaN                  NaN"
      ]
     },
     "metadata": {},
     "output_type": "display_data"
    }
   ],
   "source": [
    "merged_train_df['Promo2SinceDate'] = pd.to_datetime(merged_train_df['Promo2SinceDate'])\n",
    "merged_train_df['Date'] = pd.to_datetime(merged_train_df['Date'])\n",
    "merged_train_df['Promo2SinceDate'] = merged_train_df['Date'] - merged_train_df['Promo2SinceDate']\n",
    "merged_train_df.rename(columns={'Promo2SinceDate': 'Promo2ForDays'}, inplace=True)\n",
    "merged_train_df['CompetitionOpenSinceDate'] = merged_train_df['Date'] - merged_train_df['CompetitionOpenSinceDate']\n",
    "merged_train_df.rename(columns={'CompetitionOpenSinceDate': 'CompetitionOpenForDays'}, inplace=True)\n",
    "merged_train_df[\"Promo2ForDays\"] = merged_train_df[\"Promo2ForDays\"].dt.days  # take n_days as integer NOT datetime\n",
    "merged_train_df[\"CompetitionOpenForDays\"] = merged_train_df[\"CompetitionOpenForDays\"].dt.days  # take n_days as integer NOT datetime\n",
    "display(merged_train_df.head(5))"
   ]
  },
  {
   "cell_type": "markdown",
   "metadata": {
    "id": "6E8OmjEFeXRn"
   },
   "source": [
    "### Sanity Check!\n",
    "Just to ensure what we have makes sense, we look for negative Day values"
   ]
  },
  {
   "cell_type": "code",
   "execution_count": 8,
   "metadata": {
    "id": "1gAbMNEqebsI"
   },
   "outputs": [
    {
     "data": {
      "text/html": [
       "<div>\n",
       "<style scoped>\n",
       "    .dataframe tbody tr th:only-of-type {\n",
       "        vertical-align: middle;\n",
       "    }\n",
       "\n",
       "    .dataframe tbody tr th {\n",
       "        vertical-align: top;\n",
       "    }\n",
       "\n",
       "    .dataframe thead th {\n",
       "        text-align: right;\n",
       "    }\n",
       "</style>\n",
       "<table border=\"1\" class=\"dataframe\">\n",
       "  <thead>\n",
       "    <tr style=\"text-align: center;\">\n",
       "      <th></th>\n",
       "      <th>Store</th>\n",
       "      <th>DayOfWeek</th>\n",
       "      <th>Date</th>\n",
       "      <th>Sales</th>\n",
       "      <th>Customers</th>\n",
       "      <th>Open</th>\n",
       "      <th>Promo</th>\n",
       "      <th>StateHoliday</th>\n",
       "      <th>SchoolHoliday</th>\n",
       "      <th>StoreType</th>\n",
       "      <th>Assortment</th>\n",
       "      <th>CompetitionDistance</th>\n",
       "      <th>CompetitionOpenForDays</th>\n",
       "      <th>Promo2</th>\n",
       "      <th>Promo2ForDays</th>\n",
       "      <th>PromoInterval</th>\n",
       "    </tr>\n",
       "  </thead>\n",
       "  <tbody>\n",
       "    <tr>\n",
       "      <th>1002450</th>\n",
       "      <td>851</td>\n",
       "      <td>1</td>\n",
       "      <td>2013-01-14</td>\n",
       "      <td>4287</td>\n",
       "      <td>403</td>\n",
       "      <td>1</td>\n",
       "      <td>0</td>\n",
       "      <td>0</td>\n",
       "      <td>0</td>\n",
       "      <td>d</td>\n",
       "      <td>c</td>\n",
       "      <td>2330.0</td>\n",
       "      <td>NaN</td>\n",
       "      <td>1</td>\n",
       "      <td>-688.0</td>\n",
       "      <td>Mar,Jun,Sept,Dec</td>\n",
       "    </tr>\n",
       "    <tr>\n",
       "      <th>869734</th>\n",
       "      <td>820</td>\n",
       "      <td>1</td>\n",
       "      <td>2013-05-13</td>\n",
       "      <td>16118</td>\n",
       "      <td>1383</td>\n",
       "      <td>1</td>\n",
       "      <td>1</td>\n",
       "      <td>0</td>\n",
       "      <td>0</td>\n",
       "      <td>a</td>\n",
       "      <td>c</td>\n",
       "      <td>1650.0</td>\n",
       "      <td>NaN</td>\n",
       "      <td>1</td>\n",
       "      <td>-506.0</td>\n",
       "      <td>Jan,Apr,Jul,Oct</td>\n",
       "    </tr>\n",
       "    <tr>\n",
       "      <th>824645</th>\n",
       "      <td>331</td>\n",
       "      <td>6</td>\n",
       "      <td>2013-06-22</td>\n",
       "      <td>3431</td>\n",
       "      <td>516</td>\n",
       "      <td>1</td>\n",
       "      <td>0</td>\n",
       "      <td>0</td>\n",
       "      <td>0</td>\n",
       "      <td>a</td>\n",
       "      <td>c</td>\n",
       "      <td>670.0</td>\n",
       "      <td>NaN</td>\n",
       "      <td>1</td>\n",
       "      <td>-649.0</td>\n",
       "      <td>Jan,Apr,Jul,Oct</td>\n",
       "    </tr>\n",
       "    <tr>\n",
       "      <th>994100</th>\n",
       "      <td>306</td>\n",
       "      <td>1</td>\n",
       "      <td>2013-01-21</td>\n",
       "      <td>4787</td>\n",
       "      <td>528</td>\n",
       "      <td>1</td>\n",
       "      <td>1</td>\n",
       "      <td>0</td>\n",
       "      <td>0</td>\n",
       "      <td>a</td>\n",
       "      <td>a</td>\n",
       "      <td>5100.0</td>\n",
       "      <td>2122.0</td>\n",
       "      <td>1</td>\n",
       "      <td>-618.0</td>\n",
       "      <td>Jan,Apr,Jul,Oct</td>\n",
       "    </tr>\n",
       "    <tr>\n",
       "      <th>663289</th>\n",
       "      <td>650</td>\n",
       "      <td>4</td>\n",
       "      <td>2013-11-14</td>\n",
       "      <td>4971</td>\n",
       "      <td>544</td>\n",
       "      <td>1</td>\n",
       "      <td>0</td>\n",
       "      <td>0</td>\n",
       "      <td>0</td>\n",
       "      <td>a</td>\n",
       "      <td>a</td>\n",
       "      <td>1420.0</td>\n",
       "      <td>409.0</td>\n",
       "      <td>1</td>\n",
       "      <td>-321.0</td>\n",
       "      <td>Jan,Apr,Jul,Oct</td>\n",
       "    </tr>\n",
       "  </tbody>\n",
       "</table>\n",
       "</div>"
      ],
      "text/plain": [
       "         Store  DayOfWeek    Date     Sales  Customers  Open  Promo StateHoliday  SchoolHoliday StoreType Assortment  CompetitionDistance  CompetitionOpenForDays  Promo2  Promo2ForDays   PromoInterval  \n",
       "1002450   851       1     2013-01-14   4287     403       1     0         0             0            d         c            2330.0                    NaN             1       -688.0      Mar,Jun,Sept,Dec\n",
       "869734    820       1     2013-05-13  16118    1383       1     1         0             0            a         c            1650.0                    NaN             1       -506.0       Jan,Apr,Jul,Oct\n",
       "824645    331       6     2013-06-22   3431     516       1     0         0             0            a         c             670.0                    NaN             1       -649.0       Jan,Apr,Jul,Oct\n",
       "994100    306       1     2013-01-21   4787     528       1     1         0             0            a         a            5100.0                 2122.0             1       -618.0       Jan,Apr,Jul,Oct\n",
       "663289    650       4     2013-11-14   4971     544       1     0         0             0            a         a            1420.0                  409.0             1       -321.0       Jan,Apr,Jul,Oct"
      ]
     },
     "metadata": {},
     "output_type": "display_data"
    },
    {
     "data": {
      "text/html": [
       "<div>\n",
       "<style scoped>\n",
       "    .dataframe tbody tr th:only-of-type {\n",
       "        vertical-align: middle;\n",
       "    }\n",
       "\n",
       "    .dataframe tbody tr th {\n",
       "        vertical-align: top;\n",
       "    }\n",
       "\n",
       "    .dataframe thead th {\n",
       "        text-align: right;\n",
       "    }\n",
       "</style>\n",
       "<table border=\"1\" class=\"dataframe\">\n",
       "  <thead>\n",
       "    <tr style=\"text-align: center;\">\n",
       "      <th></th>\n",
       "      <th>Store</th>\n",
       "      <th>DayOfWeek</th>\n",
       "      <th>Date</th>\n",
       "      <th>Sales</th>\n",
       "      <th>Customers</th>\n",
       "      <th>Open</th>\n",
       "      <th>Promo</th>\n",
       "      <th>StateHoliday</th>\n",
       "      <th>SchoolHoliday</th>\n",
       "      <th>StoreType</th>\n",
       "      <th>Assortment</th>\n",
       "      <th>CompetitionDistance</th>\n",
       "      <th>CompetitionOpenForDays</th>\n",
       "      <th>Promo2</th>\n",
       "      <th>Promo2ForDays</th>\n",
       "      <th>PromoInterval</th>\n",
       "    </tr>\n",
       "  </thead>\n",
       "  <tbody>\n",
       "    <tr>\n",
       "      <th>965676</th>\n",
       "      <td>872</td>\n",
       "      <td>6</td>\n",
       "      <td>2013-02-16</td>\n",
       "      <td>7519</td>\n",
       "      <td>704</td>\n",
       "      <td>1</td>\n",
       "      <td>0</td>\n",
       "      <td>0</td>\n",
       "      <td>0</td>\n",
       "      <td>a</td>\n",
       "      <td>c</td>\n",
       "      <td>3860.0</td>\n",
       "      <td>-562.0</td>\n",
       "      <td>1</td>\n",
       "      <td>-838.0</td>\n",
       "      <td>Mar,Jun,Sept,Dec</td>\n",
       "    </tr>\n",
       "    <tr>\n",
       "      <th>301583</th>\n",
       "      <td>828</td>\n",
       "      <td>4</td>\n",
       "      <td>2014-10-23</td>\n",
       "      <td>5305</td>\n",
       "      <td>614</td>\n",
       "      <td>1</td>\n",
       "      <td>1</td>\n",
       "      <td>0</td>\n",
       "      <td>0</td>\n",
       "      <td>d</td>\n",
       "      <td>c</td>\n",
       "      <td>3290.0</td>\n",
       "      <td>-39.0</td>\n",
       "      <td>0</td>\n",
       "      <td>NaN</td>\n",
       "      <td>NaN</td>\n",
       "    </tr>\n",
       "    <tr>\n",
       "      <th>333471</th>\n",
       "      <td>944</td>\n",
       "      <td>5</td>\n",
       "      <td>2014-09-19</td>\n",
       "      <td>6963</td>\n",
       "      <td>1049</td>\n",
       "      <td>1</td>\n",
       "      <td>1</td>\n",
       "      <td>0</td>\n",
       "      <td>0</td>\n",
       "      <td>c</td>\n",
       "      <td>a</td>\n",
       "      <td>1670.0</td>\n",
       "      <td>-285.0</td>\n",
       "      <td>0</td>\n",
       "      <td>NaN</td>\n",
       "      <td>NaN</td>\n",
       "    </tr>\n",
       "    <tr>\n",
       "      <th>418591</th>\n",
       "      <td>137</td>\n",
       "      <td>6</td>\n",
       "      <td>2014-06-21</td>\n",
       "      <td>6531</td>\n",
       "      <td>740</td>\n",
       "      <td>1</td>\n",
       "      <td>0</td>\n",
       "      <td>0</td>\n",
       "      <td>0</td>\n",
       "      <td>a</td>\n",
       "      <td>a</td>\n",
       "      <td>1730.0</td>\n",
       "      <td>-375.0</td>\n",
       "      <td>1</td>\n",
       "      <td>-102.0</td>\n",
       "      <td>Jan,Apr,Jul,Oct</td>\n",
       "    </tr>\n",
       "    <tr>\n",
       "      <th>142944</th>\n",
       "      <td>225</td>\n",
       "      <td>3</td>\n",
       "      <td>2015-03-25</td>\n",
       "      <td>3708</td>\n",
       "      <td>438</td>\n",
       "      <td>1</td>\n",
       "      <td>0</td>\n",
       "      <td>0</td>\n",
       "      <td>0</td>\n",
       "      <td>d</td>\n",
       "      <td>a</td>\n",
       "      <td>10180.0</td>\n",
       "      <td>-37.0</td>\n",
       "      <td>0</td>\n",
       "      <td>NaN</td>\n",
       "      <td>NaN</td>\n",
       "    </tr>\n",
       "  </tbody>\n",
       "</table>\n",
       "</div>"
      ],
      "text/plain": [
       "        Store  DayOfWeek    Date     Sales  Customers  Open  Promo StateHoliday  SchoolHoliday StoreType Assortment  CompetitionDistance  CompetitionOpenForDays  Promo2  Promo2ForDays   PromoInterval  \n",
       "965676   872       6     2013-02-16  7519      704       1     0         0             0            a         c             3860.0                -562.0             1       -838.0      Mar,Jun,Sept,Dec\n",
       "301583   828       4     2014-10-23  5305      614       1     1         0             0            d         c             3290.0                 -39.0             0          NaN                   NaN\n",
       "333471   944       5     2014-09-19  6963     1049       1     1         0             0            c         a             1670.0                -285.0             0          NaN                   NaN\n",
       "418591   137       6     2014-06-21  6531      740       1     0         0             0            a         a             1730.0                -375.0             1       -102.0       Jan,Apr,Jul,Oct\n",
       "142944   225       3     2015-03-25  3708      438       1     0         0             0            d         a            10180.0                 -37.0             0          NaN                   NaN"
      ]
     },
     "metadata": {},
     "output_type": "display_data"
    }
   ],
   "source": [
    "indices_negative_promo = merged_train_df.query('Promo2ForDays < 0').index\n",
    "indices_negative_competition = merged_train_df.query('CompetitionOpenForDays < 0').index\n",
    "indices_sample_negative_promo = sample(list(indices_negative_promo), 5)\n",
    "indices_sample_negative_competition = sample(list(indices_negative_competition), 5)\n",
    "display(merged_train_df.loc[indices_sample_negative_promo])\n",
    "display(merged_train_df.loc[indices_sample_negative_competition])\n"
   ]
  },
  {
   "cell_type": "markdown",
   "metadata": {
    "id": "MrKQz4ODepVG"
   },
   "source": [
    "We do have **negative values** in **Promo2ForDays and CompetitionOpenForDays** *because* their **date of occurrence is after the current Date**.\n",
    "\n",
    "We handle each column separately since dealing with each means that the neighboring columns, namely CompetitionDistance and Promo2 will also have to be dealt with"
   ]
  },
  {
   "cell_type": "markdown",
   "metadata": {
    "id": "f6jK7zf0gQ53"
   },
   "source": [
    "#### Starting with CompetitionOpenForDays and CompetitionDistance"
   ]
  },
  {
   "cell_type": "code",
   "execution_count": 9,
   "metadata": {
    "id": "GJ0_9RXqgUVI"
   },
   "outputs": [
    {
     "data": {
      "text/plain": [
       "'Neg CompetitionOpenForDays'"
      ]
     },
     "metadata": {},
     "output_type": "display_data"
    },
    {
     "data": {
      "text/plain": [
       "0.08323363241968956"
      ]
     },
     "metadata": {},
     "output_type": "display_data"
    },
    {
     "data": {
      "text/plain": [
       "'Null CompetitionOpenForDays'"
      ]
     },
     "metadata": {},
     "output_type": "display_data"
    },
    {
     "data": {
      "text/plain": [
       "np.float64(0.31787764363075827)"
      ]
     },
     "metadata": {},
     "output_type": "display_data"
    },
    {
     "data": {
      "text/plain": [
       "'Null CompetitionDistance'"
      ]
     },
     "metadata": {},
     "output_type": "display_data"
    },
    {
     "data": {
      "text/plain": [
       "np.float64(0.0025973030124586)"
      ]
     },
     "metadata": {},
     "output_type": "display_data"
    }
   ],
   "source": [
    "display(\"Neg CompetitionOpenForDays\",len(list(merged_train_df.query('CompetitionOpenForDays < 0').index))/merged_train_df.shape[0])\n",
    "display(\"Null CompetitionOpenForDays\",merged_train_df[\"CompetitionOpenForDays\"].isnull().sum()/merged_train_df.shape[0])\n",
    "display(\"Null CompetitionDistance\",merged_train_df[\"CompetitionDistance\"].isnull().sum() / merged_train_df.shape[0])"
   ]
  },
  {
   "cell_type": "markdown",
   "metadata": {
    "id": "KjGLaK-rgdWy"
   },
   "source": [
    "Almost **31 percent** of rows have **null CompetitionOpenForDays**, there is no reasonable way to impute these as they do NOT correlate with any other variable and attempting to impute is irrational.\n",
    "\n",
    "Only 0.26 percent of the rows have null CompetitionDistance, these rows are dropped as they are too few\n",
    "and imputation is not done for the same reason as before."
   ]
  },
  {
   "cell_type": "code",
   "execution_count": 10,
   "metadata": {
    "id": "ftGQq8UfglKK"
   },
   "outputs": [],
   "source": [
    "merged_train_df.drop('CompetitionOpenForDays', axis=1, inplace=True)\n",
    "merged_train_df.dropna(subset=['CompetitionDistance'], inplace=True)"
   ]
  },
  {
   "cell_type": "markdown",
   "metadata": {
    "id": "MjEMqJjjgmYn"
   },
   "source": [
    "##### Moving on to Promo2 and Promo2ForDays"
   ]
  },
  {
   "cell_type": "code",
   "execution_count": 11,
   "metadata": {
    "id": "-mKGV-HTgpX5"
   },
   "outputs": [
    {
     "name": "stdout",
     "output_type": "stream",
     "text": [
      "<class 'pandas.core.frame.DataFrame'>\n",
      "Index: 1014567 entries, 0 to 1017208\n",
      "Data columns (total 15 columns):\n",
      " #   Column               Non-Null Count    Dtype         \n",
      "---  ------               --------------    -----         \n",
      " 0   Store                1014567 non-null  int64         \n",
      " 1   DayOfWeek            1014567 non-null  int64         \n",
      " 2   Date                 1014567 non-null  datetime64[ns]\n",
      " 3   Sales                1014567 non-null  int64         \n",
      " 4   Customers            1014567 non-null  int64         \n",
      " 5   Open                 1014567 non-null  int64         \n",
      " 6   Promo                1014567 non-null  int64         \n",
      " 7   StateHoliday         1014567 non-null  object        \n",
      " 8   SchoolHoliday        1014567 non-null  int64         \n",
      " 9   StoreType            1014567 non-null  object        \n",
      " 10  Assortment           1014567 non-null  object        \n",
      " 11  CompetitionDistance  1014567 non-null  float64       \n",
      " 12  Promo2               1014567 non-null  int64         \n",
      " 13  Promo2ForDays        1014567 non-null  float64       \n",
      " 14  PromoInterval        1014567 non-null  object        \n",
      "dtypes: datetime64[ns](1), float64(2), int64(8), object(4)\n",
      "memory usage: 123.8+ MB\n",
      "None\n"
     ]
    },
    {
     "data": {
      "text/html": [
       "<div>\n",
       "<style scoped>\n",
       "    .dataframe tbody tr th:only-of-type {\n",
       "        vertical-align: middle;\n",
       "    }\n",
       "\n",
       "    .dataframe tbody tr th {\n",
       "        vertical-align: top;\n",
       "    }\n",
       "\n",
       "    .dataframe thead th {\n",
       "        text-align: right;\n",
       "    }\n",
       "</style>\n",
       "<table border=\"1\" class=\"dataframe\">\n",
       "  <thead>\n",
       "    <tr style=\"text-align: center;\">\n",
       "      <th></th>\n",
       "      <th>Store</th>\n",
       "      <th>DayOfWeek</th>\n",
       "      <th>Date</th>\n",
       "      <th>Sales</th>\n",
       "      <th>Customers</th>\n",
       "      <th>Open</th>\n",
       "      <th>Promo</th>\n",
       "      <th>StateHoliday</th>\n",
       "      <th>SchoolHoliday</th>\n",
       "      <th>StoreType</th>\n",
       "      <th>Assortment</th>\n",
       "      <th>CompetitionDistance</th>\n",
       "      <th>Promo2</th>\n",
       "      <th>Promo2ForDays</th>\n",
       "      <th>PromoInterval</th>\n",
       "    </tr>\n",
       "  </thead>\n",
       "  <tbody>\n",
       "    <tr>\n",
       "      <th>0</th>\n",
       "      <td>1</td>\n",
       "      <td>5</td>\n",
       "      <td>2015-07-31</td>\n",
       "      <td>5263</td>\n",
       "      <td>555</td>\n",
       "      <td>1</td>\n",
       "      <td>1</td>\n",
       "      <td>0</td>\n",
       "      <td>1</td>\n",
       "      <td>c</td>\n",
       "      <td>a</td>\n",
       "      <td>1270.0</td>\n",
       "      <td>0</td>\n",
       "      <td>0.0</td>\n",
       "      <td>0</td>\n",
       "    </tr>\n",
       "    <tr>\n",
       "      <th>1</th>\n",
       "      <td>2</td>\n",
       "      <td>5</td>\n",
       "      <td>2015-07-31</td>\n",
       "      <td>6064</td>\n",
       "      <td>625</td>\n",
       "      <td>1</td>\n",
       "      <td>1</td>\n",
       "      <td>0</td>\n",
       "      <td>1</td>\n",
       "      <td>a</td>\n",
       "      <td>a</td>\n",
       "      <td>570.0</td>\n",
       "      <td>1</td>\n",
       "      <td>1953.0</td>\n",
       "      <td>Jan,Apr,Jul,Oct</td>\n",
       "    </tr>\n",
       "    <tr>\n",
       "      <th>2</th>\n",
       "      <td>3</td>\n",
       "      <td>5</td>\n",
       "      <td>2015-07-31</td>\n",
       "      <td>8314</td>\n",
       "      <td>821</td>\n",
       "      <td>1</td>\n",
       "      <td>1</td>\n",
       "      <td>0</td>\n",
       "      <td>1</td>\n",
       "      <td>a</td>\n",
       "      <td>a</td>\n",
       "      <td>14130.0</td>\n",
       "      <td>1</td>\n",
       "      <td>1581.0</td>\n",
       "      <td>Jan,Apr,Jul,Oct</td>\n",
       "    </tr>\n",
       "    <tr>\n",
       "      <th>3</th>\n",
       "      <td>4</td>\n",
       "      <td>5</td>\n",
       "      <td>2015-07-31</td>\n",
       "      <td>13995</td>\n",
       "      <td>1498</td>\n",
       "      <td>1</td>\n",
       "      <td>1</td>\n",
       "      <td>0</td>\n",
       "      <td>1</td>\n",
       "      <td>c</td>\n",
       "      <td>c</td>\n",
       "      <td>620.0</td>\n",
       "      <td>0</td>\n",
       "      <td>0.0</td>\n",
       "      <td>0</td>\n",
       "    </tr>\n",
       "    <tr>\n",
       "      <th>4</th>\n",
       "      <td>5</td>\n",
       "      <td>5</td>\n",
       "      <td>2015-07-31</td>\n",
       "      <td>4822</td>\n",
       "      <td>559</td>\n",
       "      <td>1</td>\n",
       "      <td>1</td>\n",
       "      <td>0</td>\n",
       "      <td>1</td>\n",
       "      <td>a</td>\n",
       "      <td>a</td>\n",
       "      <td>29910.0</td>\n",
       "      <td>0</td>\n",
       "      <td>0.0</td>\n",
       "      <td>0</td>\n",
       "    </tr>\n",
       "    <tr>\n",
       "      <th>5</th>\n",
       "      <td>6</td>\n",
       "      <td>5</td>\n",
       "      <td>2015-07-31</td>\n",
       "      <td>5651</td>\n",
       "      <td>589</td>\n",
       "      <td>1</td>\n",
       "      <td>1</td>\n",
       "      <td>0</td>\n",
       "      <td>1</td>\n",
       "      <td>a</td>\n",
       "      <td>a</td>\n",
       "      <td>310.0</td>\n",
       "      <td>0</td>\n",
       "      <td>0.0</td>\n",
       "      <td>0</td>\n",
       "    </tr>\n",
       "    <tr>\n",
       "      <th>6</th>\n",
       "      <td>7</td>\n",
       "      <td>5</td>\n",
       "      <td>2015-07-31</td>\n",
       "      <td>15344</td>\n",
       "      <td>1414</td>\n",
       "      <td>1</td>\n",
       "      <td>1</td>\n",
       "      <td>0</td>\n",
       "      <td>1</td>\n",
       "      <td>a</td>\n",
       "      <td>c</td>\n",
       "      <td>24000.0</td>\n",
       "      <td>0</td>\n",
       "      <td>0.0</td>\n",
       "      <td>0</td>\n",
       "    </tr>\n",
       "    <tr>\n",
       "      <th>7</th>\n",
       "      <td>8</td>\n",
       "      <td>5</td>\n",
       "      <td>2015-07-31</td>\n",
       "      <td>8492</td>\n",
       "      <td>833</td>\n",
       "      <td>1</td>\n",
       "      <td>1</td>\n",
       "      <td>0</td>\n",
       "      <td>1</td>\n",
       "      <td>a</td>\n",
       "      <td>a</td>\n",
       "      <td>7520.0</td>\n",
       "      <td>0</td>\n",
       "      <td>0.0</td>\n",
       "      <td>0</td>\n",
       "    </tr>\n",
       "    <tr>\n",
       "      <th>8</th>\n",
       "      <td>9</td>\n",
       "      <td>5</td>\n",
       "      <td>2015-07-31</td>\n",
       "      <td>8565</td>\n",
       "      <td>687</td>\n",
       "      <td>1</td>\n",
       "      <td>1</td>\n",
       "      <td>0</td>\n",
       "      <td>1</td>\n",
       "      <td>a</td>\n",
       "      <td>c</td>\n",
       "      <td>2030.0</td>\n",
       "      <td>0</td>\n",
       "      <td>0.0</td>\n",
       "      <td>0</td>\n",
       "    </tr>\n",
       "    <tr>\n",
       "      <th>9</th>\n",
       "      <td>10</td>\n",
       "      <td>5</td>\n",
       "      <td>2015-07-31</td>\n",
       "      <td>7185</td>\n",
       "      <td>681</td>\n",
       "      <td>1</td>\n",
       "      <td>1</td>\n",
       "      <td>0</td>\n",
       "      <td>1</td>\n",
       "      <td>a</td>\n",
       "      <td>a</td>\n",
       "      <td>3160.0</td>\n",
       "      <td>0</td>\n",
       "      <td>0.0</td>\n",
       "      <td>0</td>\n",
       "    </tr>\n",
       "  </tbody>\n",
       "</table>\n",
       "</div>"
      ],
      "text/plain": [
       "   Store  DayOfWeek    Date     Sales  Customers  Open  Promo StateHoliday  SchoolHoliday StoreType Assortment  CompetitionDistance  Promo2  Promo2ForDays  PromoInterval  \n",
       "0    1        5     2015-07-31   5263     555       1     1         0             1            c         a             1270.0           0          0.0                    0\n",
       "1    2        5     2015-07-31   6064     625       1     1         0             1            a         a              570.0           1       1953.0      Jan,Apr,Jul,Oct\n",
       "2    3        5     2015-07-31   8314     821       1     1         0             1            a         a            14130.0           1       1581.0      Jan,Apr,Jul,Oct\n",
       "3    4        5     2015-07-31  13995    1498       1     1         0             1            c         c              620.0           0          0.0                    0\n",
       "4    5        5     2015-07-31   4822     559       1     1         0             1            a         a            29910.0           0          0.0                    0\n",
       "5    6        5     2015-07-31   5651     589       1     1         0             1            a         a              310.0           0          0.0                    0\n",
       "6    7        5     2015-07-31  15344    1414       1     1         0             1            a         c            24000.0           0          0.0                    0\n",
       "7    8        5     2015-07-31   8492     833       1     1         0             1            a         a             7520.0           0          0.0                    0\n",
       "8    9        5     2015-07-31   8565     687       1     1         0             1            a         c             2030.0           0          0.0                    0\n",
       "9   10        5     2015-07-31   7185     681       1     1         0             1            a         a             3160.0           0          0.0                    0"
      ]
     },
     "metadata": {},
     "output_type": "display_data"
    }
   ],
   "source": [
    "# First handling the negative values\n",
    "merged_train_df.loc[merged_train_df[\"Promo2ForDays\"] <= 0, \"Promo2\"] = 0\n",
    "merged_train_df.loc[merged_train_df[\"Promo2\"] == 0, \"PromoInterval\"] = '0'\n",
    "merged_train_df.loc[merged_train_df[\"Promo2ForDays\"] < 0, \"Promo2ForDays\"] = 0\n",
    "# Then handling nan values\n",
    "merged_train_df['Promo2ForDays'] = merged_train_df[\"Promo2ForDays\"].fillna(0)\n",
    "merged_train_df['PromoInterval'] = merged_train_df[['PromoInterval']].fillna('0')\n",
    "print(merged_train_df.info())\n",
    "display(merged_train_df.head(10))"
   ]
  },
  {
   "cell_type": "markdown",
   "metadata": {
    "id": "Y_FstL_SheXN"
   },
   "source": [
    " We notice that when promo2 is 0, Promo2ForDays is also 0, we ensure that if Promo2 is 0 then Promo2ForDays is 0, if so, we drop column Promo2 since it is redundant"
   ]
  },
  {
   "cell_type": "code",
   "execution_count": 12,
   "metadata": {
    "id": "z5K911DHhkWF"
   },
   "outputs": [
    {
     "name": "stdout",
     "output_type": "stream",
     "text": [
      "Not Identical\n",
      "Identical\n"
     ]
    }
   ],
   "source": [
    "indices_zero_promo2 = merged_train_df.query('Promo2 == \"0\"').index\n",
    "indices_zero_promo2fordays = merged_train_df.query('Promo2ForDays == 0').index\n",
    "indices_zero_promointerval = merged_train_df.query('PromoInterval == \"0\"').index\n",
    "print('Identical' if list(indices_zero_promo2fordays) == list(indices_zero_promo2) else \"Not Identical\")\n",
    "print('Identical' if list(indices_zero_promo2fordays) == list(indices_zero_promointerval) else \"Not Identical\")"
   ]
  },
  {
   "cell_type": "markdown",
   "metadata": {
    "id": "P5EVP2x0hoOI"
   },
   "source": [
    "We can see that the rows that have Promo2 == 0 also have PromoInterval AND Promo2Fordays == 0. We can safely ignore promo2 column"
   ]
  },
  {
   "cell_type": "code",
   "execution_count": 13,
   "metadata": {
    "id": "sE2pKAkUhrY0"
   },
   "outputs": [],
   "source": [
    "merged_train_df.drop('Promo2', axis=1, inplace=True)"
   ]
  },
  {
   "cell_type": "markdown",
   "metadata": {
    "id": "bFHK3db-hw5W"
   },
   "source": [
    "One more thing to adjust is the Date column, to make predictions later, the complete date is not actionable (not integer and hard to categorize) and so we only take in month number which is suitable along with the other column of 'DayOfWeek' where both help make predictions in certain days of week or  certain weeks in year (weeks in summer...)"
   ]
  },
  {
   "cell_type": "markdown",
   "metadata": {
    "id": "avU6EupWh3nY"
   },
   "source": [
    "We could have used week number but then we would have near 52 categories which makes the problem too sparse, whereas having just 12 months as categories is more approachable. Plus we have other data like State/School Holiday which reduces importance of exact week number"
   ]
  },
  {
   "cell_type": "code",
   "execution_count": 14,
   "metadata": {},
   "outputs": [
    {
     "data": {
      "text/html": [
       "<div>\n",
       "<style scoped>\n",
       "    .dataframe tbody tr th:only-of-type {\n",
       "        vertical-align: middle;\n",
       "    }\n",
       "\n",
       "    .dataframe tbody tr th {\n",
       "        vertical-align: top;\n",
       "    }\n",
       "\n",
       "    .dataframe thead th {\n",
       "        text-align: right;\n",
       "    }\n",
       "</style>\n",
       "<table border=\"1\" class=\"dataframe\">\n",
       "  <thead>\n",
       "    <tr style=\"text-align: center;\">\n",
       "      <th></th>\n",
       "      <th>Store</th>\n",
       "      <th>DayOfWeek</th>\n",
       "      <th>Date</th>\n",
       "      <th>Sales</th>\n",
       "      <th>Customers</th>\n",
       "      <th>Open</th>\n",
       "      <th>Promo</th>\n",
       "      <th>StateHoliday</th>\n",
       "      <th>SchoolHoliday</th>\n",
       "      <th>StoreType</th>\n",
       "      <th>Assortment</th>\n",
       "      <th>CompetitionDistance</th>\n",
       "      <th>Promo2ForDays</th>\n",
       "      <th>PromoInterval</th>\n",
       "    </tr>\n",
       "  </thead>\n",
       "  <tbody>\n",
       "    <tr>\n",
       "      <th>0</th>\n",
       "      <td>1</td>\n",
       "      <td>5</td>\n",
       "      <td>2015-07-31</td>\n",
       "      <td>5263</td>\n",
       "      <td>555</td>\n",
       "      <td>1</td>\n",
       "      <td>1</td>\n",
       "      <td>0</td>\n",
       "      <td>1</td>\n",
       "      <td>c</td>\n",
       "      <td>a</td>\n",
       "      <td>1270.0</td>\n",
       "      <td>0.0</td>\n",
       "      <td>0</td>\n",
       "    </tr>\n",
       "    <tr>\n",
       "      <th>1</th>\n",
       "      <td>2</td>\n",
       "      <td>5</td>\n",
       "      <td>2015-07-31</td>\n",
       "      <td>6064</td>\n",
       "      <td>625</td>\n",
       "      <td>1</td>\n",
       "      <td>1</td>\n",
       "      <td>0</td>\n",
       "      <td>1</td>\n",
       "      <td>a</td>\n",
       "      <td>a</td>\n",
       "      <td>570.0</td>\n",
       "      <td>1953.0</td>\n",
       "      <td>Jan,Apr,Jul,Oct</td>\n",
       "    </tr>\n",
       "    <tr>\n",
       "      <th>2</th>\n",
       "      <td>3</td>\n",
       "      <td>5</td>\n",
       "      <td>2015-07-31</td>\n",
       "      <td>8314</td>\n",
       "      <td>821</td>\n",
       "      <td>1</td>\n",
       "      <td>1</td>\n",
       "      <td>0</td>\n",
       "      <td>1</td>\n",
       "      <td>a</td>\n",
       "      <td>a</td>\n",
       "      <td>14130.0</td>\n",
       "      <td>1581.0</td>\n",
       "      <td>Jan,Apr,Jul,Oct</td>\n",
       "    </tr>\n",
       "    <tr>\n",
       "      <th>3</th>\n",
       "      <td>4</td>\n",
       "      <td>5</td>\n",
       "      <td>2015-07-31</td>\n",
       "      <td>13995</td>\n",
       "      <td>1498</td>\n",
       "      <td>1</td>\n",
       "      <td>1</td>\n",
       "      <td>0</td>\n",
       "      <td>1</td>\n",
       "      <td>c</td>\n",
       "      <td>c</td>\n",
       "      <td>620.0</td>\n",
       "      <td>0.0</td>\n",
       "      <td>0</td>\n",
       "    </tr>\n",
       "    <tr>\n",
       "      <th>4</th>\n",
       "      <td>5</td>\n",
       "      <td>5</td>\n",
       "      <td>2015-07-31</td>\n",
       "      <td>4822</td>\n",
       "      <td>559</td>\n",
       "      <td>1</td>\n",
       "      <td>1</td>\n",
       "      <td>0</td>\n",
       "      <td>1</td>\n",
       "      <td>a</td>\n",
       "      <td>a</td>\n",
       "      <td>29910.0</td>\n",
       "      <td>0.0</td>\n",
       "      <td>0</td>\n",
       "    </tr>\n",
       "  </tbody>\n",
       "</table>\n",
       "</div>"
      ],
      "text/plain": [
       "   Store  DayOfWeek    Date     Sales  Customers  Open  Promo StateHoliday  SchoolHoliday StoreType Assortment  CompetitionDistance  Promo2ForDays  PromoInterval  \n",
       "0    1        5     2015-07-31   5263     555       1     1         0             1            c         a             1270.0              0.0                    0\n",
       "1    2        5     2015-07-31   6064     625       1     1         0             1            a         a              570.0           1953.0      Jan,Apr,Jul,Oct\n",
       "2    3        5     2015-07-31   8314     821       1     1         0             1            a         a            14130.0           1581.0      Jan,Apr,Jul,Oct\n",
       "3    4        5     2015-07-31  13995    1498       1     1         0             1            c         c              620.0              0.0                    0\n",
       "4    5        5     2015-07-31   4822     559       1     1         0             1            a         a            29910.0              0.0                    0"
      ]
     },
     "metadata": {},
     "output_type": "display_data"
    }
   ],
   "source": [
    "display(merged_train_df.head(5))"
   ]
  },
  {
   "cell_type": "code",
   "execution_count": 15,
   "metadata": {
    "id": "rJ1Y5n8Wh9GK"
   },
   "outputs": [
    {
     "data": {
      "text/html": [
       "<div>\n",
       "<style scoped>\n",
       "    .dataframe tbody tr th:only-of-type {\n",
       "        vertical-align: middle;\n",
       "    }\n",
       "\n",
       "    .dataframe tbody tr th {\n",
       "        vertical-align: top;\n",
       "    }\n",
       "\n",
       "    .dataframe thead th {\n",
       "        text-align: right;\n",
       "    }\n",
       "</style>\n",
       "<table border=\"1\" class=\"dataframe\">\n",
       "  <thead>\n",
       "    <tr style=\"text-align: center;\">\n",
       "      <th></th>\n",
       "      <th>Store</th>\n",
       "      <th>DayOfWeek</th>\n",
       "      <th>MonthOfYear</th>\n",
       "      <th>Sales</th>\n",
       "      <th>Customers</th>\n",
       "      <th>Open</th>\n",
       "      <th>Promo</th>\n",
       "      <th>StateHoliday</th>\n",
       "      <th>SchoolHoliday</th>\n",
       "      <th>StoreType</th>\n",
       "      <th>Assortment</th>\n",
       "      <th>CompetitionDistance</th>\n",
       "      <th>Promo2ForDays</th>\n",
       "      <th>PromoInterval</th>\n",
       "    </tr>\n",
       "  </thead>\n",
       "  <tbody>\n",
       "    <tr>\n",
       "      <th>337770</th>\n",
       "      <td>487</td>\n",
       "      <td>7</td>\n",
       "      <td>9</td>\n",
       "      <td>0</td>\n",
       "      <td>0</td>\n",
       "      <td>0</td>\n",
       "      <td>0</td>\n",
       "      <td>0</td>\n",
       "      <td>0</td>\n",
       "      <td>d</td>\n",
       "      <td>c</td>\n",
       "      <td>2180.0</td>\n",
       "      <td>714.0</td>\n",
       "      <td>Jan,Apr,Jul,Oct</td>\n",
       "    </tr>\n",
       "    <tr>\n",
       "      <th>60811</th>\n",
       "      <td>602</td>\n",
       "      <td>7</td>\n",
       "      <td>6</td>\n",
       "      <td>0</td>\n",
       "      <td>0</td>\n",
       "      <td>0</td>\n",
       "      <td>0</td>\n",
       "      <td>0</td>\n",
       "      <td>0</td>\n",
       "      <td>a</td>\n",
       "      <td>a</td>\n",
       "      <td>2710.0</td>\n",
       "      <td>1106.0</td>\n",
       "      <td>Mar,Jun,Sept,Dec</td>\n",
       "    </tr>\n",
       "    <tr>\n",
       "      <th>211372</th>\n",
       "      <td>638</td>\n",
       "      <td>5</td>\n",
       "      <td>1</td>\n",
       "      <td>5444</td>\n",
       "      <td>489</td>\n",
       "      <td>1</td>\n",
       "      <td>0</td>\n",
       "      <td>0</td>\n",
       "      <td>0</td>\n",
       "      <td>d</td>\n",
       "      <td>a</td>\n",
       "      <td>10170.0</td>\n",
       "      <td>0.0</td>\n",
       "      <td>0</td>\n",
       "    </tr>\n",
       "    <tr>\n",
       "      <th>903250</th>\n",
       "      <td>886</td>\n",
       "      <td>6</td>\n",
       "      <td>4</td>\n",
       "      <td>3719</td>\n",
       "      <td>394</td>\n",
       "      <td>1</td>\n",
       "      <td>0</td>\n",
       "      <td>0</td>\n",
       "      <td>0</td>\n",
       "      <td>a</td>\n",
       "      <td>c</td>\n",
       "      <td>12430.0</td>\n",
       "      <td>0.0</td>\n",
       "      <td>0</td>\n",
       "    </tr>\n",
       "    <tr>\n",
       "      <th>745404</th>\n",
       "      <td>255</td>\n",
       "      <td>7</td>\n",
       "      <td>9</td>\n",
       "      <td>0</td>\n",
       "      <td>0</td>\n",
       "      <td>0</td>\n",
       "      <td>0</td>\n",
       "      <td>0</td>\n",
       "      <td>0</td>\n",
       "      <td>c</td>\n",
       "      <td>c</td>\n",
       "      <td>4630.0</td>\n",
       "      <td>736.0</td>\n",
       "      <td>Feb,May,Aug,Nov</td>\n",
       "    </tr>\n",
       "    <tr>\n",
       "      <th>825881</th>\n",
       "      <td>452</td>\n",
       "      <td>5</td>\n",
       "      <td>6</td>\n",
       "      <td>6208</td>\n",
       "      <td>609</td>\n",
       "      <td>1</td>\n",
       "      <td>1</td>\n",
       "      <td>0</td>\n",
       "      <td>0</td>\n",
       "      <td>a</td>\n",
       "      <td>c</td>\n",
       "      <td>1850.0</td>\n",
       "      <td>874.0</td>\n",
       "      <td>Feb,May,Aug,Nov</td>\n",
       "    </tr>\n",
       "    <tr>\n",
       "      <th>714889</th>\n",
       "      <td>960</td>\n",
       "      <td>7</td>\n",
       "      <td>9</td>\n",
       "      <td>0</td>\n",
       "      <td>0</td>\n",
       "      <td>0</td>\n",
       "      <td>0</td>\n",
       "      <td>0</td>\n",
       "      <td>0</td>\n",
       "      <td>d</td>\n",
       "      <td>a</td>\n",
       "      <td>8990.0</td>\n",
       "      <td>1522.0</td>\n",
       "      <td>Feb,May,Aug,Nov</td>\n",
       "    </tr>\n",
       "    <tr>\n",
       "      <th>127933</th>\n",
       "      <td>824</td>\n",
       "      <td>3</td>\n",
       "      <td>4</td>\n",
       "      <td>6753</td>\n",
       "      <td>892</td>\n",
       "      <td>1</td>\n",
       "      <td>0</td>\n",
       "      <td>0</td>\n",
       "      <td>1</td>\n",
       "      <td>a</td>\n",
       "      <td>a</td>\n",
       "      <td>17570.0</td>\n",
       "      <td>0.0</td>\n",
       "      <td>0</td>\n",
       "    </tr>\n",
       "    <tr>\n",
       "      <th>665634</th>\n",
       "      <td>765</td>\n",
       "      <td>2</td>\n",
       "      <td>11</td>\n",
       "      <td>7475</td>\n",
       "      <td>672</td>\n",
       "      <td>1</td>\n",
       "      <td>0</td>\n",
       "      <td>0</td>\n",
       "      <td>0</td>\n",
       "      <td>a</td>\n",
       "      <td>c</td>\n",
       "      <td>25430.0</td>\n",
       "      <td>1524.0</td>\n",
       "      <td>Jan,Apr,Jul,Oct</td>\n",
       "    </tr>\n",
       "    <tr>\n",
       "      <th>679527</th>\n",
       "      <td>163</td>\n",
       "      <td>3</td>\n",
       "      <td>10</td>\n",
       "      <td>6670</td>\n",
       "      <td>853</td>\n",
       "      <td>1</td>\n",
       "      <td>0</td>\n",
       "      <td>0</td>\n",
       "      <td>0</td>\n",
       "      <td>a</td>\n",
       "      <td>a</td>\n",
       "      <td>1480.0</td>\n",
       "      <td>0.0</td>\n",
       "      <td>0</td>\n",
       "    </tr>\n",
       "  </tbody>\n",
       "</table>\n",
       "</div>"
      ],
      "text/plain": [
       "        Store  DayOfWeek  MonthOfYear  Sales  Customers  Open  Promo StateHoliday  SchoolHoliday StoreType Assortment  CompetitionDistance  Promo2ForDays   PromoInterval  \n",
       "337770   487       7           9          0        0       0     0         0             0            d         c             2180.0            714.0       Jan,Apr,Jul,Oct\n",
       "60811    602       7           6          0        0       0     0         0             0            a         a             2710.0           1106.0      Mar,Jun,Sept,Dec\n",
       "211372   638       5           1       5444      489       1     0         0             0            d         a            10170.0              0.0                     0\n",
       "903250   886       6           4       3719      394       1     0         0             0            a         c            12430.0              0.0                     0\n",
       "745404   255       7           9          0        0       0     0         0             0            c         c             4630.0            736.0       Feb,May,Aug,Nov\n",
       "825881   452       5           6       6208      609       1     1         0             0            a         c             1850.0            874.0       Feb,May,Aug,Nov\n",
       "714889   960       7           9          0        0       0     0         0             0            d         a             8990.0           1522.0       Feb,May,Aug,Nov\n",
       "127933   824       3           4       6753      892       1     0         0             1            a         a            17570.0              0.0                     0\n",
       "665634   765       2          11       7475      672       1     0         0             0            a         c            25430.0           1524.0       Jan,Apr,Jul,Oct\n",
       "679527   163       3          10       6670      853       1     0         0             0            a         a             1480.0              0.0                     0"
      ]
     },
     "metadata": {},
     "output_type": "display_data"
    }
   ],
   "source": [
    "merged_train_df.rename(columns={'Date': 'MonthOfYear'}, inplace=True)\n",
    "merged_train_df[\"MonthOfYear\"] = merged_train_df[\"MonthOfYear\"].dt.month\n",
    "display(merged_train_df.sample(10))"
   ]
  },
  {
   "cell_type": "markdown",
   "metadata": {
    "id": "zidOEfGHiI87"
   },
   "source": [
    "Checking for missing samples"
   ]
  },
  {
   "cell_type": "code",
   "execution_count": 16,
   "metadata": {
    "id": "xiPFJP4LiKai"
   },
   "outputs": [
    {
     "name": "stdout",
     "output_type": "stream",
     "text": [
      "False\n"
     ]
    }
   ],
   "source": [
    "print(merged_train_df.isnull().values.any())"
   ]
  },
  {
   "cell_type": "markdown",
   "metadata": {
    "id": "M7Gbpvh3iPWa"
   },
   "source": [
    "We see that no missing values exist, the finishing touch is to remove the customers column as it is not known beforehand and we only seek to predict the Sales"
   ]
  },
  {
   "cell_type": "code",
   "execution_count": 17,
   "metadata": {
    "id": "QXdXIfsaiTWu"
   },
   "outputs": [],
   "source": [
    "merged_train_df.drop('Customers', axis=1, inplace=True)"
   ]
  },
  {
   "cell_type": "markdown",
   "metadata": {
    "id": "Ux8vtj1QiVSA"
   },
   "source": [
    "Lastly we change the data that is categorical from int or float to string"
   ]
  },
  {
   "cell_type": "code",
   "execution_count": 18,
   "metadata": {
    "id": "6AJEM97aiXGh"
   },
   "outputs": [],
   "source": [
    "merged_train_df = merged_train_df.astype({'MonthOfYear': 'str', 'Open': 'str', 'Promo' : 'str'})"
   ]
  },
  {
   "cell_type": "markdown",
   "metadata": {
    "id": "Syi0WbVZidsa"
   },
   "source": [
    "# Part 2 - Visual EDA"
   ]
  },
  {
   "cell_type": "markdown",
   "metadata": {
    "id": "DWfDRx4sif2C"
   },
   "source": [
    "We explore the relation between the features and the target feature (Sales) visually, this step is performed before conducting any statistical analysis as it is easier to conduct an assessment visually than statistically since the latter may require certain assumptions like having a dataset of Gaussian distributon."
   ]
  },
  {
   "cell_type": "markdown",
   "metadata": {
    "id": "sWeZcxRYnJ83"
   },
   "source": [
    "we take a look at the distribution of values (Sales)"
   ]
  },
  {
   "cell_type": "code",
   "execution_count": 19,
   "metadata": {
    "id": "tfKd3jnhnKg1"
   },
   "outputs": [
    {
     "data": {
      "image/png": "[encoded data removed]",
      "text/plain": [
       "<Figure size 640x480 with 1 Axes>"
      ]
     },
     "metadata": {},
     "output_type": "display_data"
    }
   ],
   "source": [
    "merged_train_df.hist(column='Sales', bins=100, grid=False, color='#86bf91', zorder=2, rwidth=0.9)\n",
    "plt.show()"
   ]
  },
  {
   "cell_type": "markdown",
   "metadata": {
    "id": "C0fOuaUUnPHG"
   },
   "source": [
    "We notice that there are many small values, maybe they are just 0 sales for when the store is closed!"
   ]
  },
  {
   "cell_type": "code",
   "execution_count": 20,
   "metadata": {
    "id": "q7Z3YtoDnUOW"
   },
   "outputs": [
    {
     "name": "stdout",
     "output_type": "stream",
     "text": [
      "n_samples Days closed AND Sales=0:  172361\n",
      "n_samples Sales=0:  172415\n",
      "n_samples Open=0:  172361\n",
      "Identical\n"
     ]
    }
   ],
   "source": [
    "indices_closed_0sales = merged_train_df.query('Open == \"0\" and Sales == 0').index\n",
    "indices_0sales = merged_train_df.query('Sales == 0').index\n",
    "indices_closed = merged_train_df.query('Open == \"0\"').index\n",
    "print('n_samples Days closed AND Sales=0: ',len(list(indices_closed_0sales)))\n",
    "print('n_samples Sales=0: ', len(list(indices_0sales)))\n",
    "print('n_samples Open=0: ', len(list(indices_closed)))\n",
    "print('Identical' if list(indices_closed) == list(indices_closed_0sales) else \"Not Identical\")\n"
   ]
  },
  {
   "cell_type": "markdown",
   "metadata": {
    "id": "cwqPxXb6nYVS"
   },
   "source": [
    "Since indices_closed == indices_closed_0sales, we see that nearly all the samples with 0 sales are ones where the stores are simply closed with Open=0\n",
    "\n",
    "Therefore, we remove the rows with Open=0 and remove the column (open) as it is not interesting"
   ]
  },
  {
   "cell_type": "code",
   "execution_count": 21,
   "metadata": {
    "id": "uTy5I3p4ndFn"
   },
   "outputs": [],
   "source": [
    "merged_train_df.drop(indices_closed_0sales ,inplace=True)\n",
    "merged_train_df.drop('Open', axis=1 ,inplace=True)"
   ]
  },
  {
   "cell_type": "markdown",
   "metadata": {
    "id": "Mt2psLqunhBe"
   },
   "source": [
    " with the histogram below we can see that:\n",
    "1. The peak at 0 is gone.\n",
    "2. The distribution of Sales data is !close! to being normal / Gaussian which may allow the use ANOVA (which requires normality) without worrying about violating this assumption"
   ]
  },
  {
   "cell_type": "code",
   "execution_count": 22,
   "metadata": {
    "id": "fEIdsdq5nxgR"
   },
   "outputs": [
    {
     "data": {
      "image/png": "[encoded data removed]",
      "text/plain": [
       "<Figure size 640x480 with 1 Axes>"
      ]
     },
     "metadata": {},
     "output_type": "display_data"
    }
   ],
   "source": [
    "merged_train_df.hist(column='Sales', bins=100, grid=False, color='#86bf91', zorder=2, rwidth=0.9)\n",
    "plt.show()"
   ]
  },
  {
   "cell_type": "markdown",
   "metadata": {
    "id": "MnuxmRTjn0oF"
   },
   "source": [
    "Next, we explore the relation between our target variable (Sales) and some of the categorical features namely, (DayOfWeek, MonthOfYear, Assortment, StoreType)"
   ]
  },
  {
   "cell_type": "code",
   "execution_count": 23,
   "metadata": {},
   "outputs": [
    {
     "name": "stdout",
     "output_type": "stream",
     "text": [
      "<class 'pandas.core.frame.DataFrame'>\n",
      "Index: 842206 entries, 0 to 1017190\n",
      "Data columns (total 12 columns):\n",
      " #   Column               Non-Null Count   Dtype  \n",
      "---  ------               --------------   -----  \n",
      " 0   Store                842206 non-null  object \n",
      " 1   DayOfWeek            842206 non-null  object \n",
      " 2   MonthOfYear          842206 non-null  object \n",
      " 3   Sales                842206 non-null  float64\n",
      " 4   Promo                842206 non-null  object \n",
      " 5   StateHoliday         842206 non-null  object \n",
      " 6   SchoolHoliday        842206 non-null  object \n",
      " 7   StoreType            842206 non-null  object \n",
      " 8   Assortment           842206 non-null  object \n",
      " 9   CompetitionDistance  842206 non-null  float64\n",
      " 10  Promo2ForDays        842206 non-null  float64\n",
      " 11  PromoInterval        842206 non-null  object \n",
      "dtypes: float64(3), object(9)\n",
      "memory usage: 83.5+ MB\n"
     ]
    },
    {
     "data": {
      "text/plain": [
       "None"
      ]
     },
     "metadata": {},
     "output_type": "display_data"
    }
   ],
   "source": [
    "merged_train_df = merged_train_df.astype({'Store': 'str', 'DayOfWeek': 'str',\n",
    "                                         'Sales': 'float', 'Promo': 'str',\n",
    "                                         'StateHoliday': 'str', 'SchoolHoliday': 'str',\n",
    "                                         'PromoInterval': 'str'})\n",
    "display(merged_train_df.info())"
   ]
  },
  {
   "cell_type": "code",
   "execution_count": 24,
   "metadata": {
    "id": "5lLLT0L3n2ck"
   },
   "outputs": [
    {
     "data": {
      "image/png": "[encoded data removed]",
      "text/plain": [
       "<Figure size 1400x900 with 5 Axes>"
      ]
     },
     "metadata": {},
     "output_type": "display_data"
    }
   ],
   "source": [
    "sns.set_style('darkgrid')\n",
    "sns.set_palette('Set2')\n",
    "\n",
    "figure_1 = plt.figure(figsize=(14, 9))\n",
    "gs = figure_1.add_gridspec(3, 2)\n",
    "\n",
    "ax_dayofweek = figure_1.add_subplot(gs[0, 0])\n",
    "sns.boxplot(y='DayOfWeek',\n",
    "            x=\"Sales\",\n",
    "            data=merged_train_df,\n",
    "            order=[str(i + 1) for i in range(7)],\n",
    "            ax=ax_dayofweek,\n",
    "            whis=(0, 100),\n",
    "            width=0.5)\n",
    "ax_dayofweek.set_title(\"Sales vs. DayOfWeek\", fontweight='bold')\n",
    "\n",
    "ax_storetype = figure_1.add_subplot(gs[1, 0])\n",
    "sns.boxplot(y='StoreType',\n",
    "            x=\"Sales\",\n",
    "            data=merged_train_df,\n",
    "            ax=ax_storetype,\n",
    "            whis=(0, 100),\n",
    "            width=0.5)\n",
    "ax_storetype.set_title(\"Sales vs. StoreType\", fontweight='bold')\n",
    "\n",
    "ax_assortment = figure_1.add_subplot(gs[2, 0])\n",
    "sns.boxplot(y='Assortment',\n",
    "            x=\"Sales\",\n",
    "            data=merged_train_df,\n",
    "            ax=ax_assortment,\n",
    "            whis=(0, 100),\n",
    "            width=0.5)\n",
    "ax_assortment.set_title(\"Sales vs. Assortment\", fontweight='bold')\n",
    "\n",
    "ax_promo = figure_1.add_subplot(gs[2, 1])\n",
    "sns.boxplot(y='PromoInterval',\n",
    "            x=\"Sales\",\n",
    "            data=merged_train_df,\n",
    "            ax=ax_promo,\n",
    "            whis=(0, 100),\n",
    "            width=0.5)\n",
    "ax_promo.set_title(\"Sales vs. PromoInterval\", fontweight='bold')\n",
    "\n",
    "ax_monthofyear = figure_1.add_subplot(gs[:2, 1])\n",
    "sns.boxplot(y='MonthOfYear',\n",
    "            x=\"Sales\",\n",
    "            data=merged_train_df,\n",
    "            order=[str(i + 1) for i in range(12)],\n",
    "            ax=ax_monthofyear,\n",
    "            whis=(0, 100),\n",
    "            width=0.5)\n",
    "ax_monthofyear.set_title(\"Sales vs. MonthOfYear\", fontweight='bold')\n",
    "\n",
    "plt.tight_layout()\n",
    "plt.show()"
   ]
  },
  {
   "cell_type": "markdown",
   "metadata": {
    "id": "lTV4WNDCoANU"
   },
   "source": [
    "We can see that in the features (DayOfWeek, MonthOfYear, Assortment, StoreType) at least one label in each of these features deviates in its range of values in Sales which means that these features will all be useful. However, PromoInterval offers no predictive power and so it is removed."
   ]
  },
  {
   "cell_type": "code",
   "execution_count": 25,
   "metadata": {
    "id": "WTpPqKjPoE-H"
   },
   "outputs": [],
   "source": [
    "merged_train_df.drop('PromoInterval', axis=1, inplace=True)"
   ]
  },
  {
   "cell_type": "markdown",
   "metadata": {
    "id": "bDO2ZFPApAvs"
   },
   "source": [
    "Next, we look into the relation between Sales and the features: (promo, SchoolHoliday, StateHoliday)"
   ]
  },
  {
   "cell_type": "code",
   "execution_count": 26,
   "metadata": {
    "id": "sWvTCXsPpEuD"
   },
   "outputs": [
    {
     "data": {
      "image/png": "[encoded data removed]",
      "text/plain": [
       "<Figure size 1200x700 with 3 Axes>"
      ]
     },
     "metadata": {},
     "output_type": "display_data"
    }
   ],
   "source": [
    "figure_2, axis_2 = plt.subplots(nrows=3,\n",
    "                                ncols=1,\n",
    "                                figsize=(12,7))\n",
    "axis_2[0].hist(merged_train_df[merged_train_df[\"Promo\"] == \"1\"][\"Sales\"],\n",
    "            bins=100,\n",
    "            alpha=0.3,\n",
    "            color=\"green\",\n",
    "            label=\"Promo == 1\")\n",
    "axis_2[0].hist(merged_train_df[merged_train_df[\"Promo\"] == \"0\"][\"Sales\"],\n",
    "            bins=100,\n",
    "            alpha=0.3,\n",
    "            color=\"blue\",\n",
    "            label=\"Promo == 0\")\n",
    "axis_2[0].set_xlabel(\"Sales\")\n",
    "axis_2[0].set_ylabel(\"n_Samples\")\n",
    "axis_2[0].text(0.5, 0.9, \"Sales vs. Promo\",\n",
    "                ha='center', va='center',\n",
    "                transform=axis_2[0].transAxes,\n",
    "                fontsize=11, fontweight='bold')\n",
    "axis_2[0].legend()\n",
    "\n",
    "axis_2[1].hist(merged_train_df[merged_train_df[\"SchoolHoliday\"] == \"1\"][\"Sales\"],\n",
    "                bins=100,\n",
    "                alpha=0.3,\n",
    "                color=\"green\",\n",
    "                label=\"SchoolHoliday == 1\")\n",
    "axis_2[1].hist(merged_train_df[merged_train_df[\"SchoolHoliday\"] == \"0\"][\"Sales\"],\n",
    "                bins=100,\n",
    "                alpha=0.3,\n",
    "                color=\"blue\",\n",
    "                label=\"SchoolHoliday == 0\")\n",
    "axis_2[1].set_xlabel(\"Sales\")\n",
    "axis_2[1].set_ylabel(\"n_Samples\")\n",
    "axis_2[1].text(0.5, 0.9, \"Sales vs. SchoolHoliday\",\n",
    "                ha='center', va='center',\n",
    "                transform=axis_2[1].transAxes,\n",
    "                fontsize=11, fontweight='bold')\n",
    "axis_2[1].legend()\n",
    "\n",
    "axis_2[2].hist(merged_train_df[merged_train_df[\"StateHoliday\"] == \"1\"][\"Sales\"],\n",
    "                bins=100,\n",
    "                alpha=0.3,\n",
    "                color=\"green\",\n",
    "                label=\"StateHoliday == 1\")\n",
    "axis_2[2].hist(merged_train_df[merged_train_df[\"StateHoliday\"] == \"0\"][\"Sales\"],\n",
    "                bins=100,\n",
    "                alpha=0.3,\n",
    "                color=\"blue\",\n",
    "                label=\"StateHoliday == 0\")\n",
    "axis_2[2].set_xlabel(\"Sales\")\n",
    "axis_2[2].set_ylabel(\"n_Samples\")\n",
    "axis_2[2].text(0.5, 0.9, \"Sales vs. StateHoliday\",\n",
    "                ha='center', va='center',\n",
    "                transform=axis_2[2].transAxes,\n",
    "                fontsize=11, fontweight='bold')\n",
    "axis_2[2].legend()\n",
    "plt.show()"
   ]
  },
  {
   "cell_type": "markdown",
   "metadata": {
    "id": "jke5xwLqpJWg"
   },
   "source": [
    "Observations:\n",
    "1. plt1, Knowing if there is a promotion clearly helps in making a prediction given the difference in distributions\n",
    "2. plt2, There seems to be no predictive power in SchoolHoliday as the distribution is almost the same\n",
    "whether there is a SchoolHoliday or not apart from the ability to indicate the potential presence of outliers.\n",
    "3. plt3, We can see that having a StateHoliday only has samples with StateHoliday == 0, this could be that the store always closes when there is a StateHoliday (StateHoliday==1), and because we have removed all the samples with Open==0, then what we have left are the samples only with StateHoliday==0\n",
    "\n",
    "Decisions:\n",
    "1. Remove the columns SchoolHoliday and StateHoliday"
   ]
  },
  {
   "cell_type": "code",
   "execution_count": 27,
   "metadata": {
    "id": "3rWNoFnLpX76"
   },
   "outputs": [],
   "source": [
    "merged_train_df.drop(['StateHoliday', 'SchoolHoliday'], axis=1, inplace=True)"
   ]
  },
  {
   "cell_type": "markdown",
   "metadata": {
    "id": "mhlCB813pcpT"
   },
   "source": [
    "Next, we look into scatter plots between Sales and (Promo2ForDays CompetitionDistance)"
   ]
  },
  {
   "cell_type": "code",
   "execution_count": 28,
   "metadata": {
    "id": "zcylBPDzpe34"
   },
   "outputs": [
    {
     "name": "stderr",
     "output_type": "stream",
     "text": [
      "C:\\Users\\Doppler\\.virtualenvs\\ML_SalesRegression-VwW4zbpJ\\lib\\site-packages\\IPython\\core\\pylabtools.py:170: UserWarning: Creating legend with loc=\"best\" can be slow with large amounts of data.\n",
      "  fig.canvas.print_figure(bytes_io, **kw)\n"
     ]
    },
    {
     "data": {
      "image/png": "[encoded data removed]",
      "text/plain": [
       "<Figure size 1200x700 with 3 Axes>"
      ]
     },
     "metadata": {},
     "output_type": "display_data"
    }
   ],
   "source": [
    "figure_3, axis_3 = plt.subplots(nrows=3,\n",
    "                                ncols=1,\n",
    "                                figsize=(12, 7))\n",
    "axis_3[0].scatter(merged_train_df[\"Promo2ForDays\"],merged_train_df[\"Sales\"])\n",
    "axis_3[0].set_xlabel(\"Promo2ForDays\")\n",
    "axis_3[0].set_ylabel(\"Sales\")\n",
    "axis_3[0].text(0.5, 0.9, \"Sales vs. Promo2ForDays\",\n",
    "                ha='center', va='center',\n",
    "                transform=axis_3[0].transAxes,\n",
    "                fontsize=11, fontweight='bold')\n",
    "\n",
    "axis_3[1].scatter(merged_train_df[merged_train_df[\"Assortment\"] == \"a\"][\"CompetitionDistance\"],\n",
    "                  merged_train_df[merged_train_df[\"Assortment\"] == \"a\"][\"Sales\"],\n",
    "                  c=\"blue\",\n",
    "                  alpha=0.2,\n",
    "                  s=15,\n",
    "                  marker='o')\n",
    "\n",
    "axis_3[1].scatter(merged_train_df[merged_train_df[\"Assortment\"] == \"b\"][\"CompetitionDistance\"],\n",
    "                  merged_train_df[merged_train_df[\"Assortment\"] == \"b\"][\"Sales\"],\n",
    "                  c=\"magenta\",\n",
    "                  alpha=0.2,\n",
    "                  s=15,\n",
    "                  marker='o')\n",
    "\n",
    "axis_3[1].scatter(merged_train_df[merged_train_df[\"Assortment\"] == \"c\"][\"CompetitionDistance\"],\n",
    "                  merged_train_df[merged_train_df[\"Assortment\"] == \"c\"][\"Sales\"],\n",
    "                  c=\"cyan\",\n",
    "                  alpha=0.2,\n",
    "                  s=15,\n",
    "                  marker='o')\n",
    "\n",
    "axis_3[1].set_xlabel(\"CompetitionDistance\")\n",
    "axis_3[1].set_ylabel(\"Sales\")\n",
    "\n",
    "color_patches = [\n",
    "    matplotlib.lines.Line2D([0], [0], marker='.', color='w', label='Assortment: a', markerfacecolor='blue', markersize=15),\n",
    "    matplotlib.lines.Line2D([0], [0], marker='.', color='w', label='Assortment: b', markerfacecolor='magenta', markersize=15),\n",
    "    matplotlib.lines.Line2D([0], [0], marker='.', color='w', label='Assortment: c', markerfacecolor='cyan', markersize=15)\n",
    "]\n",
    "\n",
    "axis_3[1].legend(handles=color_patches)\n",
    "\n",
    "axis_3[1].text(0.5, 0.9, \"Sales vs. CompetitionDistance, with Assortment\",\n",
    "                ha='center', va='center',\n",
    "                transform=axis_3[1].transAxes,\n",
    "                fontsize=11, fontweight='bold')\n",
    "\n",
    "axis_3[2].scatter(merged_train_df[merged_train_df[\"StoreType\"] == \"a\"][\"CompetitionDistance\"],\n",
    "                  merged_train_df[merged_train_df[\"StoreType\"] == \"a\"][\"Sales\"],\n",
    "                  c=\"blue\",\n",
    "                  alpha=0.2,\n",
    "                  s=15,\n",
    "                  marker='o')\n",
    "\n",
    "axis_3[2].scatter(merged_train_df[merged_train_df[\"StoreType\"] == \"b\"][\"CompetitionDistance\"],\n",
    "                  merged_train_df[merged_train_df[\"StoreType\"] == \"b\"][\"Sales\"],\n",
    "                  c=\"green\",\n",
    "                  alpha=0.2,\n",
    "                  s=15,\n",
    "                  marker='o')\n",
    "\n",
    "axis_3[2].scatter(merged_train_df[merged_train_df[\"StoreType\"] == \"c\"][\"CompetitionDistance\"],\n",
    "                  merged_train_df[merged_train_df[\"StoreType\"] == \"c\"][\"Sales\"],\n",
    "                  c=\"cyan\",\n",
    "                  alpha=0.2,\n",
    "                  s=15,\n",
    "                  marker='o')\n",
    "\n",
    "axis_3[2].scatter(merged_train_df[merged_train_df[\"StoreType\"] == \"d\"][\"CompetitionDistance\"],\n",
    "                  merged_train_df[merged_train_df[\"StoreType\"] == \"d\"][\"Sales\"],\n",
    "                  c=\"magenta\",\n",
    "                  alpha=0.2,\n",
    "                  s=15,\n",
    "                  marker='o')\n",
    "\n",
    "axis_3[2].set_xlabel(\"CompetitionDistance\")\n",
    "axis_3[2].set_ylabel(\"Sales\")\n",
    "\n",
    "color_patches = [\n",
    "    matplotlib.lines.Line2D([0], [0], marker='o', color='w', label='StoreType: a', markerfacecolor='blue', markersize=10),\n",
    "    matplotlib.lines.Line2D([0], [0], marker='o', color='w', label='StoreType: b', markerfacecolor='green', markersize=10),\n",
    "    matplotlib.lines.Line2D([0], [0], marker='o', color='w', label='StoreType: c', markerfacecolor='cyan', markersize=10),\n",
    "    matplotlib.lines.Line2D([0], [0], marker='o', color='w', label='StoreType: d', markerfacecolor='magenta', markersize=10)\n",
    "]\n",
    "\n",
    "axis_3[2].legend(handles=color_patches)\n",
    "axis_3[2].text(0.5, 0.9, \"Sales vs. CompetitionDistance, with StoreType\",\n",
    "                ha='center', va='center',\n",
    "                transform=axis_3[2].transAxes,\n",
    "                fontsize=11, fontweight='bold')\n",
    "plt.show()"
   ]
  },
  {
   "cell_type": "markdown",
   "metadata": {
    "id": "xScZlON7plA0"
   },
   "source": [
    "Observations:\n",
    "1. plot1- There seems to be no correlation between Promo2ForDays and Sales\n",
    "2. plot2- and plot_3- There seems to be a negative correlation as the greater CompetitionDistance is, the lower the Sales\n",
    "\n",
    "Decisions:\n",
    "1. We consider Dropping the column Promo2ForDays, but wait to see the heatmap of correlations later on...\n",
    "\n",
    "**Side note**: it is interesting to see how certain Assortment and/or StoreTypes exist depending on CompetitionDistance"
   ]
  },
  {
   "cell_type": "markdown",
   "metadata": {
    "id": "kdsJ7M-3pxpm"
   },
   "source": [
    "# Part 3 - Statistical EDA\n"
   ]
  },
  {
   "cell_type": "markdown",
   "metadata": {
    "id": "GSPnC-Pcp5W2"
   },
   "source": [
    "After the visual exploratory data analysis (EDA), we conduct a brief statistical EDA where we (a) look into a correlation heatmap between the numeric features and (b) implement ANOVA which tells us if \"Store\" feature is relevant for predicting the Sales.\n",
    "\n",
    "This is because we could not have visually explored the relation between Store and Sales given the great\n",
    "number of labels in Store with about 1115 labels"
   ]
  },
  {
   "cell_type": "markdown",
   "metadata": {
    "id": "cmrPDaVOqcfA"
   },
   "source": [
    "Start by looking into correlation between Sales and  (Promo2ForDays CompetitionDistance)"
   ]
  },
  {
   "cell_type": "code",
   "execution_count": 29,
   "metadata": {
    "id": "20mOphaPqiIr"
   },
   "outputs": [
    {
     "data": {
      "image/png": "[encoded data removed]",
      "text/plain": [
       "<Figure size 800x600 with 2 Axes>"
      ]
     },
     "metadata": {},
     "output_type": "display_data"
    }
   ],
   "source": [
    "numeric_df = merged_train_df[['Sales', 'CompetitionDistance', 'Promo2ForDays']]\n",
    "numeric_correlations = numeric_df.corr()\n",
    "plt.figure(figsize=(8, 6))\n",
    "sns.heatmap(numeric_correlations, cmap='RdBu_r', annot=True)\n",
    "plt.show()"
   ]
  },
  {
   "cell_type": "markdown",
   "metadata": {
    "id": "gWGaZ27Cqlkr"
   },
   "source": [
    "Observations:\n",
    "* The correlation is weak between Sales and (CompetitionDistance, Promo2ForDays),  \n",
    "       \n",
    "Decisions:\n",
    "* We remove only Promo2ForDays, when it comes to CompetitionDistance, we keep it since as we saw earlier in visual_eda CompetitionDistance relates to Assortment and StorType which correlate with Sales, so the correlation\n",
    "between CompetitionDistance and Sales is indirect and is not visible using a simple correlation measure."
   ]
  },
  {
   "cell_type": "code",
   "execution_count": 30,
   "metadata": {
    "id": "lGwloER-qt-J"
   },
   "outputs": [],
   "source": [
    "merged_train_df.drop('Promo2ForDays', axis=1, inplace=True)"
   ]
  },
  {
   "cell_type": "markdown",
   "metadata": {
    "id": "61KZB7hbqvk8"
   },
   "source": [
    "Now we implement **ANOVA** which is the alternative to a the boxplot we had earlier for features with many labels like Store with about 1115 labels. ANOVA tells us if the feature (Store) has any predictive value for Sales"
   ]
  },
  {
   "cell_type": "code",
   "execution_count": 31,
   "metadata": {
    "id": "hgKXyDYgq0ES"
   },
   "outputs": [
    {
     "data": {
      "text/plain": [
       "np.float64(1144.0522315545602)"
      ]
     },
     "metadata": {},
     "output_type": "display_data"
    },
    {
     "data": {
      "text/plain": [
       "np.float64(0.0)"
      ]
     },
     "metadata": {},
     "output_type": "display_data"
    }
   ],
   "source": [
    "store_sales_list = [list(merged_train_df.loc[merged_train_df[\"Store\"] == label, \"Sales\"])\n",
    "                    for label in set(merged_train_df['Store'])]\n",
    "F, p = f_oneway(*store_sales_list)\n",
    "display(F, p)"
   ]
  },
  {
   "cell_type": "markdown",
   "metadata": {
    "id": "erynp5lGq9TG"
   },
   "source": [
    "the result is F = 1144 and p=0.0 which means that there is at least one label whose Sales distribution\n",
    "deviates from the other labels' distributions which means that we can keep Store column since it has good predictive power.\n",
    "\n",
    "Because Store has 1115 labels, we have to perform some compression. Something as simple one-hot encoding would make the samples very sparse in the feature space causing difficulties in learning and prediction.\n",
    "\n",
    "Embedding could be used but is not reasonable in this application as it is usually used in the context of NLP  and neither is regularization as it is used to tune down features of less importance.\n",
    "\n",
    "We choose to handle this intuitively, the Store label is used to give an idea over possible Sales range, therefore, we divide the Sales dimension into n bins, where each bin is a new label of Store, then for each\n",
    "Store (1, 2, 3...) we calculate the median of its sales and check under which bin it falls, then  give it a new label following bin (say Store number 27 --> bin number 1). This guides the possible Sales value"
   ]
  },
  {
   "cell_type": "code",
   "execution_count": 32,
   "metadata": {
    "id": "tg_dzNx5rFrB"
   },
   "outputs": [],
   "source": [
    "# Median Sales of each label\n",
    "median_sales_per_label = merged_train_df.groupby('Store')['Sales'].median()\n",
    "#median_sales_per_label.hist(bins=15, grid=False, color='#86bf91', zorder=2, rwidth=0.9)\n",
    "# divide Store into bins\n",
    "binned_medians = pd.cut(median_sales_per_label, bins=20, labels=range(20))\n",
    "# Map original Store number into corresponding bin\n",
    "merged_train_df[f\"{'Store'}_compressed\"] = merged_train_df['Store'].map(binned_medians)\n",
    "merged_train_df.drop('Store', axis=1, inplace=True)"
   ]
  },
  {
   "cell_type": "markdown",
   "metadata": {
    "id": "iEtepufYrRl7"
   },
   "source": [
    "# Part 4 - Deep Neural Network (DNN)"
   ]
  },
  {
   "cell_type": "markdown",
   "metadata": {
    "id": "SF9hT2c3Qare"
   },
   "source": [
    "Before implementing the DNN, we first **split** into **training** and **validation** sets and **normalize** numeric inputs.\n",
    "\n",
    "Since we have alot of data (842206 samples) we limit the size of the validation set to just 5% of the available samples.\n",
    "\n",
    "We also perform **normalization** so that all the samples are expressed in terms of their z-score, this ought to accelerate learning while not emphasizing any feature over the others."
   ]
  },
  {
   "cell_type": "code",
   "execution_count": 33,
   "metadata": {
    "id": "trgob6dOQZ54"
   },
   "outputs": [],
   "source": [
    "numeric_col_names = ['CompetitionDistance']\n",
    "df_train, df_valid = sklearn.model_selection.train_test_split(merged_train_df, train_size=0.95, random_state=1)\n",
    "train_stats = df_train.describe().transpose()\n",
    "df_train_norm, df_valid_norm = df_train.copy(), df_valid.copy()\n",
    "for col_name in numeric_col_names:\n",
    "    mean = train_stats.loc[col_name, 'mean']\n",
    "    std = train_stats.loc[col_name, 'std']\n",
    "    df_train_norm.loc[:, col_name] = (df_train_norm.loc[:, col_name] - mean) / std\n",
    "    df_valid_norm.loc[:, col_name] = (df_valid_norm.loc[:, col_name] - mean) / std\n",
    "\n",
    "x_train = torch.tensor(df_train_norm[numeric_col_names].values)\n",
    "x_valid = torch.tensor(df_valid_norm[numeric_col_names].values)"
   ]
  },
  {
   "cell_type": "markdown",
   "metadata": {
    "id": "aG8Lqab8RP0Q"
   },
   "source": [
    "We also one-hot encode all categorical features"
   ]
  },
  {
   "cell_type": "code",
   "execution_count": 34,
   "metadata": {
    "id": "Qv5lkVjXRzty"
   },
   "outputs": [],
   "source": [
    "nominal_col_names = ['Assortment', 'StoreType',\n",
    "                          'Promo', 'MonthOfYear',\n",
    "                          'DayOfWeek', 'Store_compressed']\n",
    "for col_name in nominal_col_names:\n",
    "    unique, inverse = np.unique(df_train_norm[col_name].values, return_inverse=True)\n",
    "    encoded_col = torch.from_numpy(np.eye(unique.shape[0])[inverse])\n",
    "    x_train = torch.cat([x_train, encoded_col], 1).float()\n",
    "\n",
    "    unique, inverse = np.unique(df_valid_norm[col_name].values, return_inverse=True)\n",
    "    encoded_col = torch.from_numpy(np.eye(unique.shape[0])[inverse])\n",
    "    x_valid = torch.cat([x_valid, encoded_col], 1).float()\n",
    "\n",
    "y_train = torch.tensor(df_train_norm['Sales'].values).float()\n",
    "y_valid = torch.tensor(df_valid_norm['Sales'].values).float()"
   ]
  },
  {
   "cell_type": "markdown",
   "metadata": {
    "id": "QOYVB1T6R4j-"
   },
   "source": [
    "## Defining the DNN\n",
    "Now we are ready to implement the DNN, after some testing, we define it with two hidden layers with the first having 30 neurons while the second having 10 neurons"
   ]
  },
  {
   "cell_type": "code",
   "execution_count": 35,
   "metadata": {
    "id": "9sljFlKtSNtl"
   },
   "outputs": [],
   "source": [
    "class DNN(nn.Module) :\n",
    "    def __init__(self) -> None:\n",
    "        super().__init__()\n",
    "        l1 = nn.Linear(49, 30)\n",
    "        a1 = nn.ReLU()\n",
    "        l2 = nn.Linear(30, 10)\n",
    "        a2 = nn.ReLU()\n",
    "        l3 = nn.Linear(10, 1)\n",
    "        a3 = nn.ReLU()\n",
    "        l = [l1, a1, l2, a2, l3, a3]\n",
    "        self.module_list = nn.ModuleList(l)\n",
    "\n",
    "        # Initialization:\n",
    "        # kaiming normal best suited given ReLU activation\n",
    "        #Source: https://doi.org/10.48550/arXiv.1502.01852\n",
    "        for m in self.modules():\n",
    "            if isinstance(m, torch.nn.Linear):\n",
    "                torch.nn.init.kaiming_normal_(m.weight,\n",
    "                                              mode='fan_in',\n",
    "                                              nonlinearity='relu')\n",
    "                if m.bias is not None:\n",
    "                    m.bias.detach().zero_()\n",
    "\n",
    "\n",
    "    def forward(self, x):\n",
    "        for f in self.module_list:\n",
    "            x = f(x)\n",
    "        return x"
   ]
  },
  {
   "cell_type": "markdown",
   "metadata": {
    "id": "JXKxasrZSXAl"
   },
   "source": [
    "And now we train the network on our data. But first we define the function used to measure the performance of the network, room mean square percentage error (RMSPE). RMSPE is only used for us to have an intuition over performance improvement, when it comes to the loss function however, MSE is sued. "
   ]
  },
  {
   "cell_type": "code",
   "execution_count": 36,
   "metadata": {
    "id": "fvp74aAYS30q"
   },
   "outputs": [],
   "source": [
    "def rmspe_loss_fn(prediction, target):\n",
    "    mask = target != 0\n",
    "    prediction = prediction[mask]\n",
    "    target = target[mask]\n",
    "    loss = torch.sqrt(torch.mean(((target - prediction) / target) ** 2))\n",
    "    return loss"
   ]
  },
  {
   "cell_type": "code",
   "execution_count": 37,
   "metadata": {
    "id": "pl3mL6BNSiSr"
   },
   "outputs": [
    {
     "name": "stdout",
     "output_type": "stream",
     "text": [
      "Epoch 0 - MSE Train Loss:17688996.0270      MSE Valid Loss:4315475.3602      RMSPE Valid Loss:0.3249\n",
      "Epoch 1 - MSE Train Loss:3369133.1738      MSE Valid Loss:2708867.8309      RMSPE Valid Loss:0.2638\n",
      "Epoch 2 - MSE Train Loss:2517472.9535      MSE Valid Loss:2237692.9521      RMSPE Valid Loss:0.2511\n",
      "Epoch 3 - MSE Train Loss:2187120.1877      MSE Valid Loss:2021712.5080      RMSPE Valid Loss:0.2448\n",
      "Epoch 4 - MSE Train Loss:2025384.7270      MSE Valid Loss:1923609.4293      RMSPE Valid Loss:0.2378\n",
      "Epoch 5 - MSE Train Loss:1950845.6097      MSE Valid Loss:1877893.9100      RMSPE Valid Loss:0.2395\n",
      "Epoch 6 - MSE Train Loss:1918429.9718      MSE Valid Loss:1858129.5695      RMSPE Valid Loss:0.2412\n",
      "Epoch 7 - MSE Train Loss:1902497.5508      MSE Valid Loss:1847021.1831      RMSPE Valid Loss:0.2376\n"
     ]
    },
    {
     "data": {
      "image/png": "[encoded data removed]",
      "text/plain": [
       "<Figure size 640x480 with 1 Axes>"
      ]
     },
     "metadata": {},
     "output_type": "display_data"
    }
   ],
   "source": [
    "#DataLoader\n",
    "train_ds = TensorDataset(x_train, y_train)\n",
    "batch_size = 128\n",
    "train_dl = DataLoader(train_ds, batch_size, shuffle=True)\n",
    "#Model, architecture, loss, optimizer\n",
    "model = DNN()\n",
    "MSE_loss_fn = nn.MSELoss()\n",
    "optimizer = torch.optim.Adam(model.parameters(), lr =0.5e-3)\n",
    "num_epochs = 8\n",
    "MSE_loss_hist_train = [0] * num_epochs\n",
    "\n",
    "if x_valid is not None: # if we want to train DNN on all data\n",
    "    torch.manual_seed(1)\n",
    "    valid_ds = TensorDataset(x_valid, y_valid)\n",
    "    MSE_loss_hist_valid = [0] * num_epochs\n",
    "    RMSPE_loss_hist_valid = [0] * num_epochs\n",
    "    valid_dl = DataLoader(valid_ds, batch_size, shuffle=False)\n",
    "\n",
    "\n",
    "for epoch in range(num_epochs):\n",
    "    model.train()  # Set to training mode\n",
    "    for x_batch, y_batch in train_dl:\n",
    "        pred = model(x_batch)[:, 0]\n",
    "        MSE_loss = MSE_loss_fn(pred, y_batch)\n",
    "        MSE_loss.backward()\n",
    "        optimizer.step()\n",
    "        optimizer.zero_grad()\n",
    "\n",
    "        MSE_loss_hist_train[epoch] += MSE_loss.item()\n",
    "    MSE_loss_hist_train[epoch] /= len(train_dl)\n",
    "\n",
    "    model.eval() # Set to evaluation mode\n",
    "    with torch.no_grad():\n",
    "        for x_batch, y_batch in valid_dl:\n",
    "            pred = model(x_batch)[:, 0]\n",
    "            MSE_loss_hist_valid[epoch] += MSE_loss_fn(pred, y_batch).item()\n",
    "            RMSPE_loss_hist_valid[epoch] += rmspe_loss_fn(pred, y_batch).item()\n",
    "\n",
    "            # Average validation losses over batches\n",
    "        MSE_loss_hist_valid[epoch] /= len(valid_dl)\n",
    "        RMSPE_loss_hist_valid[epoch] /= len(valid_dl)\n",
    "\n",
    "        print(f'Epoch {epoch} - MSE Train Loss:{MSE_loss_hist_train[epoch]:.4f}'\n",
    "              f'      MSE Valid Loss:{MSE_loss_hist_valid[epoch]:.4f}'\n",
    "              f'      RMSPE Valid Loss:{RMSPE_loss_hist_valid[epoch]:.4f}')\n",
    "\n",
    "\n",
    "plt.plot([i for i in range(num_epochs)],MSE_loss_hist_train, lw=2)\n",
    "plt.plot([i for i in range(num_epochs)],MSE_loss_hist_valid, lw=2)\n",
    "plt.legend(['train_loss', 'valid_loss'], fontsize = 15)\n",
    "plt.grid()\n",
    "plt.show()"
   ]
  },
  {
   "cell_type": "markdown",
   "metadata": {
    "id": "NyGwMjVRS98T"
   },
   "source": [
    "# Part 5 - Regression Forest"
   ]
  },
  {
   "cell_type": "markdown",
   "metadata": {
    "id": "VUUxvhP7TBNR"
   },
   "source": [
    "Implementing the RegressionForest, we first split into training and validation sets. Since we have alot of data (842206 samples) we limit the size of the validation set to just 5% of the available samples."
   ]
  },
  {
   "cell_type": "code",
   "execution_count": 38,
   "metadata": {
    "id": "KHOuvDwWkUbV"
   },
   "outputs": [],
   "source": [
    "def one_hot_encode(df : pd.DataFrame, categorical_columns : list[str]) -> pd.DataFrame:\n",
    "    \"\"\"\n",
    "        Performs one-hot encoding on specified categorical columns in the DataFrame.\n",
    "    \"\"\"\n",
    "    one_hot_encoder = OneHotEncoder(sparse_output=False).set_output(transform='pandas')\n",
    "    for col_name in categorical_columns:\n",
    "        encoded_col_df = one_hot_encoder.fit_transform(df[col_name].to_frame())\n",
    "        df = pd.concat([df, encoded_col_df], axis=1).drop(columns=[col_name])\n",
    "    return df\n",
    "\n",
    "input_col_names = ['CompetitionDistance', 'Assortment', 'StoreType',\n",
    "                      'Promo', 'MonthOfYear',\n",
    "                      'DayOfWeek', 'Store_compressed']\n",
    "\n",
    "categorical_col_names= ['Assortment', 'StoreType',\n",
    "                      'Promo', 'MonthOfYear',\n",
    "                      'DayOfWeek', 'Store_compressed']\n",
    "df_train, df_valid = sklearn.model_selection.train_test_split(merged_train_df, train_size=0.95, random_state=1)\n",
    "\n",
    "x_train = df_train[input_col_names]\n",
    "y_train = df_train['Sales']\n",
    "\n",
    "x_valid = df_valid[input_col_names]\n",
    "y_valid = df_valid['Sales']\n",
    "\n",
    "x_train = one_hot_encode(x_train, categorical_col_names)\n",
    "x_valid = one_hot_encode(x_valid, categorical_col_names)"
   ]
  },
  {
   "cell_type": "markdown",
   "metadata": {
    "id": "e4QRjopSkZS8"
   },
   "source": [
    "We also define loss functions mean square error (MSE) to compare the performance of the regression tree to the DNN"
   ]
  },
  {
   "cell_type": "code",
   "execution_count": 39,
   "metadata": {
    "id": "tlAGxk4kkhQ7"
   },
   "outputs": [],
   "source": [
    "def rmspe_loss_fn(prediction, target):\n",
    "    mask = target != 0\n",
    "    prediction = prediction[mask]\n",
    "    target = target[mask]\n",
    "    loss = np.sqrt(np.mean(((target - prediction) / target) ** 2))\n",
    "    return loss\n",
    "\n",
    "def mse_loss_fn(prediction, target):\n",
    "    mask = target != 0\n",
    "    prediction = prediction[mask]\n",
    "    target = target[mask]\n",
    "    loss = np.mean((target - prediction) ** 2)\n",
    "    return loss"
   ]
  },
  {
   "cell_type": "markdown",
   "metadata": {
    "id": "JSLf0LYgkkmf"
   },
   "source": [
    "Lastly, we implement and train the regression forest"
   ]
  },
  {
   "cell_type": "code",
   "execution_count": 40,
   "metadata": {
    "id": "Mj6UwHNikm6Q"
   },
   "outputs": [
    {
     "name": "stdout",
     "output_type": "stream",
     "text": [
      "Depth:22.0000    -  n_estimators:10.0000      - MSE Valid Loss:1356347.9252      RMSPE Valid Loss:0.1765\n"
     ]
    }
   ],
   "source": [
    "x_train = x_train.values\n",
    "y_train =  y_train.values\n",
    "\n",
    "x_valid = x_valid.values\n",
    "y_valid = y_valid.values\n",
    "rng = np.random.RandomState(1)\n",
    "\n",
    "\n",
    "regression_forest = AdaBoostRegressor(\n",
    "    DecisionTreeRegressor(max_depth=22), n_estimators=10, random_state=rng #depth ref  22, n_estimators ref 10\n",
    ")\n",
    "regression_forest.fit(x_train, y_train)\n",
    "valid_pred = regression_forest.predict(x_valid)\n",
    "MSE_loss_valid = mse_loss_fn(valid_pred, y_valid)\n",
    "RMSPE_loss_valid = rmspe_loss_fn(valid_pred, y_valid)\n",
    "print(f'Depth:{22:.4f}    -  n_estimators:{10:.4f}      - MSE Valid Loss:{MSE_loss_valid:.4f}'\n",
    "      f'      RMSPE Valid Loss:{RMSPE_loss_valid:.4f}')"
   ]
  }
 ],
 "metadata": {
  "colab": {
   "provenance": []
  },
  "kernelspec": {
   "display_name": "Python 3 (ipykernel)",
   "language": "python",
   "name": "python3"
  },
  "language_info": {
   "codemirror_mode": {
    "name": "ipython",
    "version": 3
   },
   "file_extension": ".py",
   "mimetype": "text/x-python",
   "name": "python",
   "nbconvert_exporter": "python",
   "pygments_lexer": "ipython3",
   "version": "3.10.11"
  }
 },
 "nbformat": 4,
 "nbformat_minor": 4
}
